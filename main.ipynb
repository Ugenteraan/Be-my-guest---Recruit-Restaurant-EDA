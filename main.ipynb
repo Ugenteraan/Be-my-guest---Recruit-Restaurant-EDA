{
 "cells": [
  {
   "cell_type": "markdown",
   "id": "ae884dd2",
   "metadata": {},
   "source": [
    "**Table of contents**<a id='toc0_'></a>    \n",
    "- [Be My Guest - Recruit Restaurant EDA](#toc1_)    \n",
    "  - [Load Data](#toc1_1_)    \n",
    "  - [EDA](#toc1_2_)    \n",
    "    - [File Structure & Content Overview](#toc1_2_1_)    \n",
    "      - [Air Reserve](#toc1_2_1_1_)    \n",
    "      - [HPG Reserve](#toc1_2_1_2_)    \n",
    "      - [Air Visits](#toc1_2_1_3_)    \n",
    "      - [Air Store](#toc1_2_1_4_)    \n",
    "      - [HPG Store](#toc1_2_1_5_)    \n",
    "      - [Holidays](#toc1_2_1_6_)    \n",
    "      - [Store ID Relation](#toc1_2_1_7_)    \n",
    "      - [Test Data](#toc1_2_1_8_)    \n",
    "    - [Reformat Features](#toc1_2_2_)    \n",
    "    - [Feature Visualizations](#toc1_2_3_)    \n",
    "      - [Air Visits](#toc1_2_3_1_)    \n",
    "      - [Air Reservations](#toc1_2_3_2_)    \n",
    "\n",
    "<!-- vscode-jupyter-toc-config\n",
    "\tnumbering=false\n",
    "\tanchor=true\n",
    "\tflat=false\n",
    "\tminLevel=1\n",
    "\tmaxLevel=6\n",
    "\t/vscode-jupyter-toc-config -->\n",
    "<!-- THIS CELL WILL BE REPLACED ON TOC UPDATE. DO NOT WRITE YOUR TEXT IN THIS CELL -->"
   ]
  },
  {
   "cell_type": "markdown",
   "id": "09d02a66",
   "metadata": {},
   "source": [
    "# <a id='toc1_'></a>[Be My Guest - Recruit Restaurant EDA](#toc0_)"
   ]
  },
  {
   "cell_type": "code",
   "execution_count": 124,
   "id": "1a4e936f",
   "metadata": {},
   "outputs": [],
   "source": [
    "import pandas as pd\n",
    "import numpy as np\n",
    "import matplotlib.pyplot as plt\n",
    "import seaborn as sns\n",
    "import os\n",
    "import statsmodels.api as sm\n",
    "import calendar"
   ]
  },
  {
   "cell_type": "markdown",
   "id": "89cf725a",
   "metadata": {},
   "source": [
    "## <a id='toc1_1_'></a>[Load Data](#toc0_)"
   ]
  },
  {
   "cell_type": "code",
   "execution_count": 125,
   "id": "a0cf0ca2",
   "metadata": {},
   "outputs": [],
   "source": [
    "air_reserve_df = pd.read_csv('./input/recruit-restaurant-visitor-forecasting/air_reserve.csv')\n",
    "air_visits_df = pd.read_csv('./input/recruit-restaurant-visitor-forecasting/air_visit_data.csv')\n",
    "air_store_df = pd.read_csv('./input/recruit-restaurant-visitor-forecasting/air_store_info.csv')\n",
    "hpg_reserve_df = pd.read_csv('./input/recruit-restaurant-visitor-forecasting/hpg_reserve.csv')\n",
    "hpg_store_df = pd.read_csv('./input/recruit-restaurant-visitor-forecasting/hpg_store_info.csv')\n",
    "holidays_df = pd.read_csv('./input/recruit-restaurant-visitor-forecasting/date_info.csv')\n",
    "store_ids_df = pd.read_csv('./input/recruit-restaurant-visitor-forecasting/store_id_relation.csv')\n",
    "test_df = pd.read_csv('./input/recruit-restaurant-visitor-forecasting/sample_submission.csv')"
   ]
  },
  {
   "cell_type": "markdown",
   "id": "1402c0b6",
   "metadata": {},
   "source": [
    "## <a id='toc1_2_'></a>[EDA](#toc0_)"
   ]
  },
  {
   "cell_type": "markdown",
   "id": "debef837",
   "metadata": {},
   "source": [
    "### <a id='toc1_2_1_'></a>[File Structure & Content Overview](#toc0_)"
   ]
  },
  {
   "cell_type": "markdown",
   "id": "d82a2e26",
   "metadata": {},
   "source": [
    "#### <a id='toc1_2_1_1_'></a>[Air Reserve](#toc0_)"
   ]
  },
  {
   "cell_type": "markdown",
   "id": "fbdc623f",
   "metadata": {},
   "source": [
    "\n",
    "This file contains reservations made in the air system. Note that the reserve_datetime indicates the time when the reservation was created, whereas the visit_datetime is the time in the future where the visit will occur.\n",
    "\n",
    "air_store_id - the restaurant's id in the air system\\\n",
    "visit_datetime - the time of the reservation\\\n",
    "reserve_datetime - the time the reservation was made\\\n",
    "reserve_visitors - the number of visitors for that reservation"
   ]
  },
  {
   "cell_type": "code",
   "execution_count": 126,
   "id": "7d9b128e",
   "metadata": {},
   "outputs": [
    {
     "data": {
      "text/html": [
       "<div>\n",
       "<style scoped>\n",
       "    .dataframe tbody tr th:only-of-type {\n",
       "        vertical-align: middle;\n",
       "    }\n",
       "\n",
       "    .dataframe tbody tr th {\n",
       "        vertical-align: top;\n",
       "    }\n",
       "\n",
       "    .dataframe thead th {\n",
       "        text-align: right;\n",
       "    }\n",
       "</style>\n",
       "<table border=\"1\" class=\"dataframe\">\n",
       "  <thead>\n",
       "    <tr style=\"text-align: right;\">\n",
       "      <th></th>\n",
       "      <th>air_store_id</th>\n",
       "      <th>visit_datetime</th>\n",
       "      <th>reserve_datetime</th>\n",
       "      <th>reserve_visitors</th>\n",
       "    </tr>\n",
       "  </thead>\n",
       "  <tbody>\n",
       "    <tr>\n",
       "      <th>0</th>\n",
       "      <td>air_877f79706adbfb06</td>\n",
       "      <td>2016-01-01 19:00:00</td>\n",
       "      <td>2016-01-01 16:00:00</td>\n",
       "      <td>1</td>\n",
       "    </tr>\n",
       "    <tr>\n",
       "      <th>1</th>\n",
       "      <td>air_db4b38ebe7a7ceff</td>\n",
       "      <td>2016-01-01 19:00:00</td>\n",
       "      <td>2016-01-01 19:00:00</td>\n",
       "      <td>3</td>\n",
       "    </tr>\n",
       "    <tr>\n",
       "      <th>2</th>\n",
       "      <td>air_db4b38ebe7a7ceff</td>\n",
       "      <td>2016-01-01 19:00:00</td>\n",
       "      <td>2016-01-01 19:00:00</td>\n",
       "      <td>6</td>\n",
       "    </tr>\n",
       "    <tr>\n",
       "      <th>3</th>\n",
       "      <td>air_877f79706adbfb06</td>\n",
       "      <td>2016-01-01 20:00:00</td>\n",
       "      <td>2016-01-01 16:00:00</td>\n",
       "      <td>2</td>\n",
       "    </tr>\n",
       "    <tr>\n",
       "      <th>4</th>\n",
       "      <td>air_db80363d35f10926</td>\n",
       "      <td>2016-01-01 20:00:00</td>\n",
       "      <td>2016-01-01 01:00:00</td>\n",
       "      <td>5</td>\n",
       "    </tr>\n",
       "  </tbody>\n",
       "</table>\n",
       "</div>"
      ],
      "text/plain": [
       "           air_store_id       visit_datetime     reserve_datetime  \\\n",
       "0  air_877f79706adbfb06  2016-01-01 19:00:00  2016-01-01 16:00:00   \n",
       "1  air_db4b38ebe7a7ceff  2016-01-01 19:00:00  2016-01-01 19:00:00   \n",
       "2  air_db4b38ebe7a7ceff  2016-01-01 19:00:00  2016-01-01 19:00:00   \n",
       "3  air_877f79706adbfb06  2016-01-01 20:00:00  2016-01-01 16:00:00   \n",
       "4  air_db80363d35f10926  2016-01-01 20:00:00  2016-01-01 01:00:00   \n",
       "\n",
       "   reserve_visitors  \n",
       "0                 1  \n",
       "1                 3  \n",
       "2                 6  \n",
       "3                 2  \n",
       "4                 5  "
      ]
     },
     "execution_count": 126,
     "metadata": {},
     "output_type": "execute_result"
    }
   ],
   "source": [
    "air_reserve_df.head()"
   ]
  },
  {
   "cell_type": "code",
   "execution_count": 127,
   "id": "8a88589d",
   "metadata": {},
   "outputs": [
    {
     "data": {
      "text/html": [
       "<div>\n",
       "<style scoped>\n",
       "    .dataframe tbody tr th:only-of-type {\n",
       "        vertical-align: middle;\n",
       "    }\n",
       "\n",
       "    .dataframe tbody tr th {\n",
       "        vertical-align: top;\n",
       "    }\n",
       "\n",
       "    .dataframe thead th {\n",
       "        text-align: right;\n",
       "    }\n",
       "</style>\n",
       "<table border=\"1\" class=\"dataframe\">\n",
       "  <thead>\n",
       "    <tr style=\"text-align: right;\">\n",
       "      <th></th>\n",
       "      <th>reserve_visitors</th>\n",
       "    </tr>\n",
       "  </thead>\n",
       "  <tbody>\n",
       "    <tr>\n",
       "      <th>count</th>\n",
       "      <td>92378.000000</td>\n",
       "    </tr>\n",
       "    <tr>\n",
       "      <th>mean</th>\n",
       "      <td>4.481749</td>\n",
       "    </tr>\n",
       "    <tr>\n",
       "      <th>std</th>\n",
       "      <td>4.919669</td>\n",
       "    </tr>\n",
       "    <tr>\n",
       "      <th>min</th>\n",
       "      <td>1.000000</td>\n",
       "    </tr>\n",
       "    <tr>\n",
       "      <th>25%</th>\n",
       "      <td>2.000000</td>\n",
       "    </tr>\n",
       "    <tr>\n",
       "      <th>50%</th>\n",
       "      <td>3.000000</td>\n",
       "    </tr>\n",
       "    <tr>\n",
       "      <th>75%</th>\n",
       "      <td>5.000000</td>\n",
       "    </tr>\n",
       "    <tr>\n",
       "      <th>max</th>\n",
       "      <td>100.000000</td>\n",
       "    </tr>\n",
       "  </tbody>\n",
       "</table>\n",
       "</div>"
      ],
      "text/plain": [
       "       reserve_visitors\n",
       "count      92378.000000\n",
       "mean           4.481749\n",
       "std            4.919669\n",
       "min            1.000000\n",
       "25%            2.000000\n",
       "50%            3.000000\n",
       "75%            5.000000\n",
       "max          100.000000"
      ]
     },
     "execution_count": 127,
     "metadata": {},
     "output_type": "execute_result"
    }
   ],
   "source": [
    "air_reserve_df.describe()"
   ]
  },
  {
   "cell_type": "code",
   "execution_count": 128,
   "id": "c9672605",
   "metadata": {},
   "outputs": [
    {
     "name": "stdout",
     "output_type": "stream",
     "text": [
      "Max air reserve visit datetime:  2017-05-31 21:00:00\n",
      "Min air reserve visit datetime:  2016-01-01 19:00:00\n",
      "Max air reserve visitors:  100\n",
      "Min air reserve visitors:  1\n"
     ]
    }
   ],
   "source": [
    "print(\"Max air reserve visit datetime: \", air_reserve_df['visit_datetime'].max())\n",
    "print(\"Min air reserve visit datetime: \", air_reserve_df['visit_datetime'].min())\n",
    "print(\"Max air reserve visitors: \", air_reserve_df['reserve_visitors'].max())\n",
    "print(\"Min air reserve visitors: \", air_reserve_df['reserve_visitors'].min())"
   ]
  },
  {
   "cell_type": "markdown",
   "id": "1832da04",
   "metadata": {},
   "source": [
    "#### <a id='toc1_2_1_2_'></a>[HPG Reserve](#toc0_)"
   ]
  },
  {
   "cell_type": "markdown",
   "id": "a1a46390",
   "metadata": {},
   "source": [
    "\n",
    "This file contains reservations made in the hpg system.\n",
    "\n",
    "hpg_store_id - the restaurant's id in the hpg system\\\n",
    "visit_datetime - the time of the reservation\\\n",
    "reserve_datetime - the time the reservation was made\\\n",
    "reserve_visitors - the number of visitors for that reservation"
   ]
  },
  {
   "cell_type": "code",
   "execution_count": 129,
   "id": "ee8cc9ae",
   "metadata": {},
   "outputs": [
    {
     "data": {
      "text/html": [
       "<div>\n",
       "<style scoped>\n",
       "    .dataframe tbody tr th:only-of-type {\n",
       "        vertical-align: middle;\n",
       "    }\n",
       "\n",
       "    .dataframe tbody tr th {\n",
       "        vertical-align: top;\n",
       "    }\n",
       "\n",
       "    .dataframe thead th {\n",
       "        text-align: right;\n",
       "    }\n",
       "</style>\n",
       "<table border=\"1\" class=\"dataframe\">\n",
       "  <thead>\n",
       "    <tr style=\"text-align: right;\">\n",
       "      <th></th>\n",
       "      <th>hpg_store_id</th>\n",
       "      <th>visit_datetime</th>\n",
       "      <th>reserve_datetime</th>\n",
       "      <th>reserve_visitors</th>\n",
       "    </tr>\n",
       "  </thead>\n",
       "  <tbody>\n",
       "    <tr>\n",
       "      <th>0</th>\n",
       "      <td>hpg_c63f6f42e088e50f</td>\n",
       "      <td>2016-01-01 11:00:00</td>\n",
       "      <td>2016-01-01 09:00:00</td>\n",
       "      <td>1</td>\n",
       "    </tr>\n",
       "    <tr>\n",
       "      <th>1</th>\n",
       "      <td>hpg_dac72789163a3f47</td>\n",
       "      <td>2016-01-01 13:00:00</td>\n",
       "      <td>2016-01-01 06:00:00</td>\n",
       "      <td>3</td>\n",
       "    </tr>\n",
       "    <tr>\n",
       "      <th>2</th>\n",
       "      <td>hpg_c8e24dcf51ca1eb5</td>\n",
       "      <td>2016-01-01 16:00:00</td>\n",
       "      <td>2016-01-01 14:00:00</td>\n",
       "      <td>2</td>\n",
       "    </tr>\n",
       "    <tr>\n",
       "      <th>3</th>\n",
       "      <td>hpg_24bb207e5fd49d4a</td>\n",
       "      <td>2016-01-01 17:00:00</td>\n",
       "      <td>2016-01-01 11:00:00</td>\n",
       "      <td>5</td>\n",
       "    </tr>\n",
       "    <tr>\n",
       "      <th>4</th>\n",
       "      <td>hpg_25291c542ebb3bc2</td>\n",
       "      <td>2016-01-01 17:00:00</td>\n",
       "      <td>2016-01-01 03:00:00</td>\n",
       "      <td>13</td>\n",
       "    </tr>\n",
       "  </tbody>\n",
       "</table>\n",
       "</div>"
      ],
      "text/plain": [
       "           hpg_store_id       visit_datetime     reserve_datetime  \\\n",
       "0  hpg_c63f6f42e088e50f  2016-01-01 11:00:00  2016-01-01 09:00:00   \n",
       "1  hpg_dac72789163a3f47  2016-01-01 13:00:00  2016-01-01 06:00:00   \n",
       "2  hpg_c8e24dcf51ca1eb5  2016-01-01 16:00:00  2016-01-01 14:00:00   \n",
       "3  hpg_24bb207e5fd49d4a  2016-01-01 17:00:00  2016-01-01 11:00:00   \n",
       "4  hpg_25291c542ebb3bc2  2016-01-01 17:00:00  2016-01-01 03:00:00   \n",
       "\n",
       "   reserve_visitors  \n",
       "0                 1  \n",
       "1                 3  \n",
       "2                 2  \n",
       "3                 5  \n",
       "4                13  "
      ]
     },
     "execution_count": 129,
     "metadata": {},
     "output_type": "execute_result"
    }
   ],
   "source": [
    "hpg_reserve_df.head()"
   ]
  },
  {
   "cell_type": "code",
   "execution_count": 130,
   "id": "cdbe13f2",
   "metadata": {},
   "outputs": [
    {
     "data": {
      "text/html": [
       "<div>\n",
       "<style scoped>\n",
       "    .dataframe tbody tr th:only-of-type {\n",
       "        vertical-align: middle;\n",
       "    }\n",
       "\n",
       "    .dataframe tbody tr th {\n",
       "        vertical-align: top;\n",
       "    }\n",
       "\n",
       "    .dataframe thead th {\n",
       "        text-align: right;\n",
       "    }\n",
       "</style>\n",
       "<table border=\"1\" class=\"dataframe\">\n",
       "  <thead>\n",
       "    <tr style=\"text-align: right;\">\n",
       "      <th></th>\n",
       "      <th>reserve_visitors</th>\n",
       "    </tr>\n",
       "  </thead>\n",
       "  <tbody>\n",
       "    <tr>\n",
       "      <th>count</th>\n",
       "      <td>2.000320e+06</td>\n",
       "    </tr>\n",
       "    <tr>\n",
       "      <th>mean</th>\n",
       "      <td>5.073785e+00</td>\n",
       "    </tr>\n",
       "    <tr>\n",
       "      <th>std</th>\n",
       "      <td>5.416172e+00</td>\n",
       "    </tr>\n",
       "    <tr>\n",
       "      <th>min</th>\n",
       "      <td>1.000000e+00</td>\n",
       "    </tr>\n",
       "    <tr>\n",
       "      <th>25%</th>\n",
       "      <td>2.000000e+00</td>\n",
       "    </tr>\n",
       "    <tr>\n",
       "      <th>50%</th>\n",
       "      <td>3.000000e+00</td>\n",
       "    </tr>\n",
       "    <tr>\n",
       "      <th>75%</th>\n",
       "      <td>6.000000e+00</td>\n",
       "    </tr>\n",
       "    <tr>\n",
       "      <th>max</th>\n",
       "      <td>1.000000e+02</td>\n",
       "    </tr>\n",
       "  </tbody>\n",
       "</table>\n",
       "</div>"
      ],
      "text/plain": [
       "       reserve_visitors\n",
       "count      2.000320e+06\n",
       "mean       5.073785e+00\n",
       "std        5.416172e+00\n",
       "min        1.000000e+00\n",
       "25%        2.000000e+00\n",
       "50%        3.000000e+00\n",
       "75%        6.000000e+00\n",
       "max        1.000000e+02"
      ]
     },
     "execution_count": 130,
     "metadata": {},
     "output_type": "execute_result"
    }
   ],
   "source": [
    "hpg_reserve_df.describe()"
   ]
  },
  {
   "cell_type": "code",
   "execution_count": 131,
   "id": "b0e809ee",
   "metadata": {},
   "outputs": [
    {
     "name": "stdout",
     "output_type": "stream",
     "text": [
      "Max hpg reserve visit datetime:  2017-05-31 23:00:00\n",
      "Min hpg reserve visit datetime:  2016-01-01 11:00:00\n",
      "Max hpg reserve visitors:  100\n",
      "Min hpg reserve visitors:  1\n"
     ]
    }
   ],
   "source": [
    "print(\"Max hpg reserve visit datetime: \", hpg_reserve_df['visit_datetime'].max())\n",
    "print(\"Min hpg reserve visit datetime: \", hpg_reserve_df['visit_datetime'].min())\n",
    "print(\"Max hpg reserve visitors: \", hpg_reserve_df['reserve_visitors'].max())\n",
    "print(\"Min hpg reserve visitors: \", hpg_reserve_df['reserve_visitors'].min())"
   ]
  },
  {
   "cell_type": "markdown",
   "id": "f0f69554",
   "metadata": {},
   "source": [
    "#### <a id='toc1_2_1_3_'></a>[Air Visits](#toc0_)"
   ]
  },
  {
   "cell_type": "markdown",
   "id": "e5af49e7",
   "metadata": {},
   "source": [
    "This file contains historical visit data for the air restaurants.\n",
    "\n",
    "air_store_id\n",
    "visit_date - the date\n",
    "visitors - the number of visitors to the restaurant on the date"
   ]
  },
  {
   "cell_type": "code",
   "execution_count": 132,
   "id": "1fcbd4a0",
   "metadata": {},
   "outputs": [
    {
     "data": {
      "text/html": [
       "<div>\n",
       "<style scoped>\n",
       "    .dataframe tbody tr th:only-of-type {\n",
       "        vertical-align: middle;\n",
       "    }\n",
       "\n",
       "    .dataframe tbody tr th {\n",
       "        vertical-align: top;\n",
       "    }\n",
       "\n",
       "    .dataframe thead th {\n",
       "        text-align: right;\n",
       "    }\n",
       "</style>\n",
       "<table border=\"1\" class=\"dataframe\">\n",
       "  <thead>\n",
       "    <tr style=\"text-align: right;\">\n",
       "      <th></th>\n",
       "      <th>air_store_id</th>\n",
       "      <th>visit_date</th>\n",
       "      <th>visitors</th>\n",
       "    </tr>\n",
       "  </thead>\n",
       "  <tbody>\n",
       "    <tr>\n",
       "      <th>0</th>\n",
       "      <td>air_ba937bf13d40fb24</td>\n",
       "      <td>2016-01-13</td>\n",
       "      <td>25</td>\n",
       "    </tr>\n",
       "    <tr>\n",
       "      <th>1</th>\n",
       "      <td>air_ba937bf13d40fb24</td>\n",
       "      <td>2016-01-14</td>\n",
       "      <td>32</td>\n",
       "    </tr>\n",
       "    <tr>\n",
       "      <th>2</th>\n",
       "      <td>air_ba937bf13d40fb24</td>\n",
       "      <td>2016-01-15</td>\n",
       "      <td>29</td>\n",
       "    </tr>\n",
       "    <tr>\n",
       "      <th>3</th>\n",
       "      <td>air_ba937bf13d40fb24</td>\n",
       "      <td>2016-01-16</td>\n",
       "      <td>22</td>\n",
       "    </tr>\n",
       "    <tr>\n",
       "      <th>4</th>\n",
       "      <td>air_ba937bf13d40fb24</td>\n",
       "      <td>2016-01-18</td>\n",
       "      <td>6</td>\n",
       "    </tr>\n",
       "  </tbody>\n",
       "</table>\n",
       "</div>"
      ],
      "text/plain": [
       "           air_store_id  visit_date  visitors\n",
       "0  air_ba937bf13d40fb24  2016-01-13        25\n",
       "1  air_ba937bf13d40fb24  2016-01-14        32\n",
       "2  air_ba937bf13d40fb24  2016-01-15        29\n",
       "3  air_ba937bf13d40fb24  2016-01-16        22\n",
       "4  air_ba937bf13d40fb24  2016-01-18         6"
      ]
     },
     "execution_count": 132,
     "metadata": {},
     "output_type": "execute_result"
    }
   ],
   "source": [
    "air_visits_df.head()"
   ]
  },
  {
   "cell_type": "code",
   "execution_count": 133,
   "id": "eb2f5890",
   "metadata": {},
   "outputs": [
    {
     "data": {
      "text/html": [
       "<div>\n",
       "<style scoped>\n",
       "    .dataframe tbody tr th:only-of-type {\n",
       "        vertical-align: middle;\n",
       "    }\n",
       "\n",
       "    .dataframe tbody tr th {\n",
       "        vertical-align: top;\n",
       "    }\n",
       "\n",
       "    .dataframe thead th {\n",
       "        text-align: right;\n",
       "    }\n",
       "</style>\n",
       "<table border=\"1\" class=\"dataframe\">\n",
       "  <thead>\n",
       "    <tr style=\"text-align: right;\">\n",
       "      <th></th>\n",
       "      <th>visitors</th>\n",
       "    </tr>\n",
       "  </thead>\n",
       "  <tbody>\n",
       "    <tr>\n",
       "      <th>count</th>\n",
       "      <td>252108.000000</td>\n",
       "    </tr>\n",
       "    <tr>\n",
       "      <th>mean</th>\n",
       "      <td>20.973761</td>\n",
       "    </tr>\n",
       "    <tr>\n",
       "      <th>std</th>\n",
       "      <td>16.757007</td>\n",
       "    </tr>\n",
       "    <tr>\n",
       "      <th>min</th>\n",
       "      <td>1.000000</td>\n",
       "    </tr>\n",
       "    <tr>\n",
       "      <th>25%</th>\n",
       "      <td>9.000000</td>\n",
       "    </tr>\n",
       "    <tr>\n",
       "      <th>50%</th>\n",
       "      <td>17.000000</td>\n",
       "    </tr>\n",
       "    <tr>\n",
       "      <th>75%</th>\n",
       "      <td>29.000000</td>\n",
       "    </tr>\n",
       "    <tr>\n",
       "      <th>max</th>\n",
       "      <td>877.000000</td>\n",
       "    </tr>\n",
       "  </tbody>\n",
       "</table>\n",
       "</div>"
      ],
      "text/plain": [
       "            visitors\n",
       "count  252108.000000\n",
       "mean       20.973761\n",
       "std        16.757007\n",
       "min         1.000000\n",
       "25%         9.000000\n",
       "50%        17.000000\n",
       "75%        29.000000\n",
       "max       877.000000"
      ]
     },
     "execution_count": 133,
     "metadata": {},
     "output_type": "execute_result"
    }
   ],
   "source": [
    "air_visits_df.describe()"
   ]
  },
  {
   "cell_type": "code",
   "execution_count": 134,
   "id": "634eb668",
   "metadata": {},
   "outputs": [
    {
     "name": "stdout",
     "output_type": "stream",
     "text": [
      "Max Air Visits datetime:  2017-04-22\n",
      "Min Air Visits datetime:  2016-01-01\n",
      "Max reserve visitors:  877\n",
      "Min reserve visitors:  1\n"
     ]
    }
   ],
   "source": [
    "print(\"Max Air Visits datetime: \", air_visits_df['visit_date'].max())\n",
    "print(\"Min Air Visits datetime: \", air_visits_df['visit_date'].min())\n",
    "print(\"Max reserve visitors: \", air_visits_df['visitors'].max())\n",
    "print(\"Min reserve visitors: \", air_visits_df['visitors'].min())"
   ]
  },
  {
   "cell_type": "markdown",
   "id": "c0846491",
   "metadata": {},
   "source": [
    "#### <a id='toc1_2_1_4_'></a>[Air Store](#toc0_)"
   ]
  },
  {
   "cell_type": "markdown",
   "id": "5790839f",
   "metadata": {},
   "source": [
    "This file contains information about select air restaurants. Column names and contents are self-explanatory.\n",
    "\n",
    "air_store_id\\\n",
    "air_genre_name\\\n",
    "air_area_name\\\n",
    "latitude\\\n",
    "longitude"
   ]
  },
  {
   "cell_type": "code",
   "execution_count": 135,
   "id": "04a11d59",
   "metadata": {},
   "outputs": [
    {
     "data": {
      "text/html": [
       "<div>\n",
       "<style scoped>\n",
       "    .dataframe tbody tr th:only-of-type {\n",
       "        vertical-align: middle;\n",
       "    }\n",
       "\n",
       "    .dataframe tbody tr th {\n",
       "        vertical-align: top;\n",
       "    }\n",
       "\n",
       "    .dataframe thead th {\n",
       "        text-align: right;\n",
       "    }\n",
       "</style>\n",
       "<table border=\"1\" class=\"dataframe\">\n",
       "  <thead>\n",
       "    <tr style=\"text-align: right;\">\n",
       "      <th></th>\n",
       "      <th>air_store_id</th>\n",
       "      <th>air_genre_name</th>\n",
       "      <th>air_area_name</th>\n",
       "      <th>latitude</th>\n",
       "      <th>longitude</th>\n",
       "    </tr>\n",
       "  </thead>\n",
       "  <tbody>\n",
       "    <tr>\n",
       "      <th>0</th>\n",
       "      <td>air_0f0cdeee6c9bf3d7</td>\n",
       "      <td>Italian/French</td>\n",
       "      <td>Hyōgo-ken Kōbe-shi Kumoidōri</td>\n",
       "      <td>34.695124</td>\n",
       "      <td>135.197853</td>\n",
       "    </tr>\n",
       "    <tr>\n",
       "      <th>1</th>\n",
       "      <td>air_7cc17a324ae5c7dc</td>\n",
       "      <td>Italian/French</td>\n",
       "      <td>Hyōgo-ken Kōbe-shi Kumoidōri</td>\n",
       "      <td>34.695124</td>\n",
       "      <td>135.197853</td>\n",
       "    </tr>\n",
       "    <tr>\n",
       "      <th>2</th>\n",
       "      <td>air_fee8dcf4d619598e</td>\n",
       "      <td>Italian/French</td>\n",
       "      <td>Hyōgo-ken Kōbe-shi Kumoidōri</td>\n",
       "      <td>34.695124</td>\n",
       "      <td>135.197853</td>\n",
       "    </tr>\n",
       "    <tr>\n",
       "      <th>3</th>\n",
       "      <td>air_a17f0778617c76e2</td>\n",
       "      <td>Italian/French</td>\n",
       "      <td>Hyōgo-ken Kōbe-shi Kumoidōri</td>\n",
       "      <td>34.695124</td>\n",
       "      <td>135.197853</td>\n",
       "    </tr>\n",
       "    <tr>\n",
       "      <th>4</th>\n",
       "      <td>air_83db5aff8f50478e</td>\n",
       "      <td>Italian/French</td>\n",
       "      <td>Tōkyō-to Minato-ku Shibakōen</td>\n",
       "      <td>35.658068</td>\n",
       "      <td>139.751599</td>\n",
       "    </tr>\n",
       "  </tbody>\n",
       "</table>\n",
       "</div>"
      ],
      "text/plain": [
       "           air_store_id  air_genre_name                 air_area_name  \\\n",
       "0  air_0f0cdeee6c9bf3d7  Italian/French  Hyōgo-ken Kōbe-shi Kumoidōri   \n",
       "1  air_7cc17a324ae5c7dc  Italian/French  Hyōgo-ken Kōbe-shi Kumoidōri   \n",
       "2  air_fee8dcf4d619598e  Italian/French  Hyōgo-ken Kōbe-shi Kumoidōri   \n",
       "3  air_a17f0778617c76e2  Italian/French  Hyōgo-ken Kōbe-shi Kumoidōri   \n",
       "4  air_83db5aff8f50478e  Italian/French  Tōkyō-to Minato-ku Shibakōen   \n",
       "\n",
       "    latitude   longitude  \n",
       "0  34.695124  135.197853  \n",
       "1  34.695124  135.197853  \n",
       "2  34.695124  135.197853  \n",
       "3  34.695124  135.197853  \n",
       "4  35.658068  139.751599  "
      ]
     },
     "execution_count": 135,
     "metadata": {},
     "output_type": "execute_result"
    }
   ],
   "source": [
    "air_store_df.head()"
   ]
  },
  {
   "cell_type": "code",
   "execution_count": 136,
   "id": "6d19d247",
   "metadata": {},
   "outputs": [
    {
     "data": {
      "text/html": [
       "<div>\n",
       "<style scoped>\n",
       "    .dataframe tbody tr th:only-of-type {\n",
       "        vertical-align: middle;\n",
       "    }\n",
       "\n",
       "    .dataframe tbody tr th {\n",
       "        vertical-align: top;\n",
       "    }\n",
       "\n",
       "    .dataframe thead th {\n",
       "        text-align: right;\n",
       "    }\n",
       "</style>\n",
       "<table border=\"1\" class=\"dataframe\">\n",
       "  <thead>\n",
       "    <tr style=\"text-align: right;\">\n",
       "      <th></th>\n",
       "      <th>latitude</th>\n",
       "      <th>longitude</th>\n",
       "    </tr>\n",
       "  </thead>\n",
       "  <tbody>\n",
       "    <tr>\n",
       "      <th>count</th>\n",
       "      <td>829.000000</td>\n",
       "      <td>829.000000</td>\n",
       "    </tr>\n",
       "    <tr>\n",
       "      <th>mean</th>\n",
       "      <td>35.647042</td>\n",
       "      <td>137.415311</td>\n",
       "    </tr>\n",
       "    <tr>\n",
       "      <th>std</th>\n",
       "      <td>2.084659</td>\n",
       "      <td>3.650971</td>\n",
       "    </tr>\n",
       "    <tr>\n",
       "      <th>min</th>\n",
       "      <td>33.211967</td>\n",
       "      <td>130.195555</td>\n",
       "    </tr>\n",
       "    <tr>\n",
       "      <th>25%</th>\n",
       "      <td>34.695124</td>\n",
       "      <td>135.341564</td>\n",
       "    </tr>\n",
       "    <tr>\n",
       "      <th>50%</th>\n",
       "      <td>35.658068</td>\n",
       "      <td>139.685474</td>\n",
       "    </tr>\n",
       "    <tr>\n",
       "      <th>75%</th>\n",
       "      <td>35.694003</td>\n",
       "      <td>139.751599</td>\n",
       "    </tr>\n",
       "    <tr>\n",
       "      <th>max</th>\n",
       "      <td>44.020632</td>\n",
       "      <td>144.273398</td>\n",
       "    </tr>\n",
       "  </tbody>\n",
       "</table>\n",
       "</div>"
      ],
      "text/plain": [
       "         latitude   longitude\n",
       "count  829.000000  829.000000\n",
       "mean    35.647042  137.415311\n",
       "std      2.084659    3.650971\n",
       "min     33.211967  130.195555\n",
       "25%     34.695124  135.341564\n",
       "50%     35.658068  139.685474\n",
       "75%     35.694003  139.751599\n",
       "max     44.020632  144.273398"
      ]
     },
     "execution_count": 136,
     "metadata": {},
     "output_type": "execute_result"
    }
   ],
   "source": [
    "air_store_df.describe()"
   ]
  },
  {
   "cell_type": "markdown",
   "id": "2f0ba2b9",
   "metadata": {},
   "source": [
    "#### <a id='toc1_2_1_5_'></a>[HPG Store](#toc0_)"
   ]
  },
  {
   "cell_type": "markdown",
   "id": "662f958a",
   "metadata": {},
   "source": [
    "This file contains reservations made in the hpg system.\n",
    "\n",
    "hpg_store_id - the restaurant's id in the hpg system\\\n",
    "visit_datetime - the time of the reservation\\\n",
    "reserve_datetime - the time the reservation was made\\\n",
    "reserve_visitors - the number of visitors for that reservation"
   ]
  },
  {
   "cell_type": "code",
   "execution_count": 137,
   "id": "3f90c976",
   "metadata": {},
   "outputs": [
    {
     "data": {
      "text/html": [
       "<div>\n",
       "<style scoped>\n",
       "    .dataframe tbody tr th:only-of-type {\n",
       "        vertical-align: middle;\n",
       "    }\n",
       "\n",
       "    .dataframe tbody tr th {\n",
       "        vertical-align: top;\n",
       "    }\n",
       "\n",
       "    .dataframe thead th {\n",
       "        text-align: right;\n",
       "    }\n",
       "</style>\n",
       "<table border=\"1\" class=\"dataframe\">\n",
       "  <thead>\n",
       "    <tr style=\"text-align: right;\">\n",
       "      <th></th>\n",
       "      <th>hpg_store_id</th>\n",
       "      <th>hpg_genre_name</th>\n",
       "      <th>hpg_area_name</th>\n",
       "      <th>latitude</th>\n",
       "      <th>longitude</th>\n",
       "    </tr>\n",
       "  </thead>\n",
       "  <tbody>\n",
       "    <tr>\n",
       "      <th>0</th>\n",
       "      <td>hpg_6622b62385aec8bf</td>\n",
       "      <td>Japanese style</td>\n",
       "      <td>Tōkyō-to Setagaya-ku Taishidō</td>\n",
       "      <td>35.643675</td>\n",
       "      <td>139.668221</td>\n",
       "    </tr>\n",
       "    <tr>\n",
       "      <th>1</th>\n",
       "      <td>hpg_e9e068dd49c5fa00</td>\n",
       "      <td>Japanese style</td>\n",
       "      <td>Tōkyō-to Setagaya-ku Taishidō</td>\n",
       "      <td>35.643675</td>\n",
       "      <td>139.668221</td>\n",
       "    </tr>\n",
       "    <tr>\n",
       "      <th>2</th>\n",
       "      <td>hpg_2976f7acb4b3a3bc</td>\n",
       "      <td>Japanese style</td>\n",
       "      <td>Tōkyō-to Setagaya-ku Taishidō</td>\n",
       "      <td>35.643675</td>\n",
       "      <td>139.668221</td>\n",
       "    </tr>\n",
       "    <tr>\n",
       "      <th>3</th>\n",
       "      <td>hpg_e51a522e098f024c</td>\n",
       "      <td>Japanese style</td>\n",
       "      <td>Tōkyō-to Setagaya-ku Taishidō</td>\n",
       "      <td>35.643675</td>\n",
       "      <td>139.668221</td>\n",
       "    </tr>\n",
       "    <tr>\n",
       "      <th>4</th>\n",
       "      <td>hpg_e3d0e1519894f275</td>\n",
       "      <td>Japanese style</td>\n",
       "      <td>Tōkyō-to Setagaya-ku Taishidō</td>\n",
       "      <td>35.643675</td>\n",
       "      <td>139.668221</td>\n",
       "    </tr>\n",
       "  </tbody>\n",
       "</table>\n",
       "</div>"
      ],
      "text/plain": [
       "           hpg_store_id  hpg_genre_name                  hpg_area_name  \\\n",
       "0  hpg_6622b62385aec8bf  Japanese style  Tōkyō-to Setagaya-ku Taishidō   \n",
       "1  hpg_e9e068dd49c5fa00  Japanese style  Tōkyō-to Setagaya-ku Taishidō   \n",
       "2  hpg_2976f7acb4b3a3bc  Japanese style  Tōkyō-to Setagaya-ku Taishidō   \n",
       "3  hpg_e51a522e098f024c  Japanese style  Tōkyō-to Setagaya-ku Taishidō   \n",
       "4  hpg_e3d0e1519894f275  Japanese style  Tōkyō-to Setagaya-ku Taishidō   \n",
       "\n",
       "    latitude   longitude  \n",
       "0  35.643675  139.668221  \n",
       "1  35.643675  139.668221  \n",
       "2  35.643675  139.668221  \n",
       "3  35.643675  139.668221  \n",
       "4  35.643675  139.668221  "
      ]
     },
     "execution_count": 137,
     "metadata": {},
     "output_type": "execute_result"
    }
   ],
   "source": [
    "hpg_store_df.head()"
   ]
  },
  {
   "cell_type": "code",
   "execution_count": 138,
   "id": "02afe63d",
   "metadata": {},
   "outputs": [
    {
     "data": {
      "text/html": [
       "<div>\n",
       "<style scoped>\n",
       "    .dataframe tbody tr th:only-of-type {\n",
       "        vertical-align: middle;\n",
       "    }\n",
       "\n",
       "    .dataframe tbody tr th {\n",
       "        vertical-align: top;\n",
       "    }\n",
       "\n",
       "    .dataframe thead th {\n",
       "        text-align: right;\n",
       "    }\n",
       "</style>\n",
       "<table border=\"1\" class=\"dataframe\">\n",
       "  <thead>\n",
       "    <tr style=\"text-align: right;\">\n",
       "      <th></th>\n",
       "      <th>latitude</th>\n",
       "      <th>longitude</th>\n",
       "    </tr>\n",
       "  </thead>\n",
       "  <tbody>\n",
       "    <tr>\n",
       "      <th>count</th>\n",
       "      <td>4690.000000</td>\n",
       "      <td>4690.000000</td>\n",
       "    </tr>\n",
       "    <tr>\n",
       "      <th>mean</th>\n",
       "      <td>35.810261</td>\n",
       "      <td>137.675816</td>\n",
       "    </tr>\n",
       "    <tr>\n",
       "      <th>std</th>\n",
       "      <td>2.138755</td>\n",
       "      <td>3.197233</td>\n",
       "    </tr>\n",
       "    <tr>\n",
       "      <th>min</th>\n",
       "      <td>33.311645</td>\n",
       "      <td>130.339313</td>\n",
       "    </tr>\n",
       "    <tr>\n",
       "      <th>25%</th>\n",
       "      <td>34.692109</td>\n",
       "      <td>135.498859</td>\n",
       "    </tr>\n",
       "    <tr>\n",
       "      <th>50%</th>\n",
       "      <td>35.659214</td>\n",
       "      <td>139.495733</td>\n",
       "    </tr>\n",
       "    <tr>\n",
       "      <th>75%</th>\n",
       "      <td>35.703381</td>\n",
       "      <td>139.737998</td>\n",
       "    </tr>\n",
       "    <tr>\n",
       "      <th>max</th>\n",
       "      <td>43.774846</td>\n",
       "      <td>143.714585</td>\n",
       "    </tr>\n",
       "  </tbody>\n",
       "</table>\n",
       "</div>"
      ],
      "text/plain": [
       "          latitude    longitude\n",
       "count  4690.000000  4690.000000\n",
       "mean     35.810261   137.675816\n",
       "std       2.138755     3.197233\n",
       "min      33.311645   130.339313\n",
       "25%      34.692109   135.498859\n",
       "50%      35.659214   139.495733\n",
       "75%      35.703381   139.737998\n",
       "max      43.774846   143.714585"
      ]
     },
     "execution_count": 138,
     "metadata": {},
     "output_type": "execute_result"
    }
   ],
   "source": [
    "hpg_store_df.describe()"
   ]
  },
  {
   "cell_type": "markdown",
   "id": "3a26a8b6",
   "metadata": {},
   "source": [
    "#### <a id='toc1_2_1_6_'></a>[Holidays](#toc0_)"
   ]
  },
  {
   "cell_type": "markdown",
   "id": "055c434a",
   "metadata": {},
   "source": [
    "This file gives basic information about the calendar dates in the dataset.\n",
    "\n",
    "calendar_date\\\n",
    "day_of_week\\\n",
    "holiday_flg - is the day a holiday in Japan"
   ]
  },
  {
   "cell_type": "code",
   "execution_count": 139,
   "id": "1fd8ece5",
   "metadata": {},
   "outputs": [
    {
     "data": {
      "text/html": [
       "<div>\n",
       "<style scoped>\n",
       "    .dataframe tbody tr th:only-of-type {\n",
       "        vertical-align: middle;\n",
       "    }\n",
       "\n",
       "    .dataframe tbody tr th {\n",
       "        vertical-align: top;\n",
       "    }\n",
       "\n",
       "    .dataframe thead th {\n",
       "        text-align: right;\n",
       "    }\n",
       "</style>\n",
       "<table border=\"1\" class=\"dataframe\">\n",
       "  <thead>\n",
       "    <tr style=\"text-align: right;\">\n",
       "      <th></th>\n",
       "      <th>calendar_date</th>\n",
       "      <th>day_of_week</th>\n",
       "      <th>holiday_flg</th>\n",
       "    </tr>\n",
       "  </thead>\n",
       "  <tbody>\n",
       "    <tr>\n",
       "      <th>0</th>\n",
       "      <td>2016-01-01</td>\n",
       "      <td>Friday</td>\n",
       "      <td>1</td>\n",
       "    </tr>\n",
       "    <tr>\n",
       "      <th>1</th>\n",
       "      <td>2016-01-02</td>\n",
       "      <td>Saturday</td>\n",
       "      <td>1</td>\n",
       "    </tr>\n",
       "    <tr>\n",
       "      <th>2</th>\n",
       "      <td>2016-01-03</td>\n",
       "      <td>Sunday</td>\n",
       "      <td>1</td>\n",
       "    </tr>\n",
       "    <tr>\n",
       "      <th>3</th>\n",
       "      <td>2016-01-04</td>\n",
       "      <td>Monday</td>\n",
       "      <td>0</td>\n",
       "    </tr>\n",
       "    <tr>\n",
       "      <th>4</th>\n",
       "      <td>2016-01-05</td>\n",
       "      <td>Tuesday</td>\n",
       "      <td>0</td>\n",
       "    </tr>\n",
       "  </tbody>\n",
       "</table>\n",
       "</div>"
      ],
      "text/plain": [
       "  calendar_date day_of_week  holiday_flg\n",
       "0    2016-01-01      Friday            1\n",
       "1    2016-01-02    Saturday            1\n",
       "2    2016-01-03      Sunday            1\n",
       "3    2016-01-04      Monday            0\n",
       "4    2016-01-05     Tuesday            0"
      ]
     },
     "execution_count": 139,
     "metadata": {},
     "output_type": "execute_result"
    }
   ],
   "source": [
    "holidays_df.head()"
   ]
  },
  {
   "cell_type": "code",
   "execution_count": 140,
   "id": "08588658",
   "metadata": {},
   "outputs": [
    {
     "data": {
      "text/html": [
       "<div>\n",
       "<style scoped>\n",
       "    .dataframe tbody tr th:only-of-type {\n",
       "        vertical-align: middle;\n",
       "    }\n",
       "\n",
       "    .dataframe tbody tr th {\n",
       "        vertical-align: top;\n",
       "    }\n",
       "\n",
       "    .dataframe thead th {\n",
       "        text-align: right;\n",
       "    }\n",
       "</style>\n",
       "<table border=\"1\" class=\"dataframe\">\n",
       "  <thead>\n",
       "    <tr style=\"text-align: right;\">\n",
       "      <th></th>\n",
       "      <th>holiday_flg</th>\n",
       "    </tr>\n",
       "  </thead>\n",
       "  <tbody>\n",
       "    <tr>\n",
       "      <th>count</th>\n",
       "      <td>517.000000</td>\n",
       "    </tr>\n",
       "    <tr>\n",
       "      <th>mean</th>\n",
       "      <td>0.067698</td>\n",
       "    </tr>\n",
       "    <tr>\n",
       "      <th>std</th>\n",
       "      <td>0.251471</td>\n",
       "    </tr>\n",
       "    <tr>\n",
       "      <th>min</th>\n",
       "      <td>0.000000</td>\n",
       "    </tr>\n",
       "    <tr>\n",
       "      <th>25%</th>\n",
       "      <td>0.000000</td>\n",
       "    </tr>\n",
       "    <tr>\n",
       "      <th>50%</th>\n",
       "      <td>0.000000</td>\n",
       "    </tr>\n",
       "    <tr>\n",
       "      <th>75%</th>\n",
       "      <td>0.000000</td>\n",
       "    </tr>\n",
       "    <tr>\n",
       "      <th>max</th>\n",
       "      <td>1.000000</td>\n",
       "    </tr>\n",
       "  </tbody>\n",
       "</table>\n",
       "</div>"
      ],
      "text/plain": [
       "       holiday_flg\n",
       "count   517.000000\n",
       "mean      0.067698\n",
       "std       0.251471\n",
       "min       0.000000\n",
       "25%       0.000000\n",
       "50%       0.000000\n",
       "75%       0.000000\n",
       "max       1.000000"
      ]
     },
     "execution_count": 140,
     "metadata": {},
     "output_type": "execute_result"
    }
   ],
   "source": [
    "holidays_df.describe()"
   ]
  },
  {
   "cell_type": "code",
   "execution_count": 141,
   "id": "4f3da073",
   "metadata": {},
   "outputs": [
    {
     "name": "stdout",
     "output_type": "stream",
     "text": [
      "Max calendar date:  2017-05-31\n",
      "Min calendar date:  2016-01-01\n",
      "Number of holidays:  35\n"
     ]
    }
   ],
   "source": [
    "print(\"Max calendar date: \", holidays_df['calendar_date'].max())\n",
    "print(\"Min calendar date: \", holidays_df['calendar_date'].min())\n",
    "print(\"Number of holidays: \", holidays_df['holiday_flg'].sum())"
   ]
  },
  {
   "cell_type": "markdown",
   "id": "638aa4f2",
   "metadata": {},
   "source": [
    "#### <a id='toc1_2_1_7_'></a>[Store ID Relation](#toc0_)"
   ]
  },
  {
   "cell_type": "markdown",
   "id": "c0e3c168",
   "metadata": {},
   "source": [
    "This file allows you to join select restaurants that have both the air and hpg system.\\\n",
    "\n",
    "hpg_store_id\\\n",
    "air_store_id"
   ]
  },
  {
   "cell_type": "code",
   "execution_count": 142,
   "id": "c1bcda67",
   "metadata": {},
   "outputs": [
    {
     "data": {
      "text/html": [
       "<div>\n",
       "<style scoped>\n",
       "    .dataframe tbody tr th:only-of-type {\n",
       "        vertical-align: middle;\n",
       "    }\n",
       "\n",
       "    .dataframe tbody tr th {\n",
       "        vertical-align: top;\n",
       "    }\n",
       "\n",
       "    .dataframe thead th {\n",
       "        text-align: right;\n",
       "    }\n",
       "</style>\n",
       "<table border=\"1\" class=\"dataframe\">\n",
       "  <thead>\n",
       "    <tr style=\"text-align: right;\">\n",
       "      <th></th>\n",
       "      <th>air_store_id</th>\n",
       "      <th>hpg_store_id</th>\n",
       "    </tr>\n",
       "  </thead>\n",
       "  <tbody>\n",
       "    <tr>\n",
       "      <th>0</th>\n",
       "      <td>air_63b13c56b7201bd9</td>\n",
       "      <td>hpg_4bc649e72e2a239a</td>\n",
       "    </tr>\n",
       "    <tr>\n",
       "      <th>1</th>\n",
       "      <td>air_a24bf50c3e90d583</td>\n",
       "      <td>hpg_c34b496d0305a809</td>\n",
       "    </tr>\n",
       "    <tr>\n",
       "      <th>2</th>\n",
       "      <td>air_c7f78b4f3cba33ff</td>\n",
       "      <td>hpg_cd8ae0d9bbd58ff9</td>\n",
       "    </tr>\n",
       "    <tr>\n",
       "      <th>3</th>\n",
       "      <td>air_947eb2cae4f3e8f2</td>\n",
       "      <td>hpg_de24ea49dc25d6b8</td>\n",
       "    </tr>\n",
       "    <tr>\n",
       "      <th>4</th>\n",
       "      <td>air_965b2e0cf4119003</td>\n",
       "      <td>hpg_653238a84804d8e7</td>\n",
       "    </tr>\n",
       "  </tbody>\n",
       "</table>\n",
       "</div>"
      ],
      "text/plain": [
       "           air_store_id          hpg_store_id\n",
       "0  air_63b13c56b7201bd9  hpg_4bc649e72e2a239a\n",
       "1  air_a24bf50c3e90d583  hpg_c34b496d0305a809\n",
       "2  air_c7f78b4f3cba33ff  hpg_cd8ae0d9bbd58ff9\n",
       "3  air_947eb2cae4f3e8f2  hpg_de24ea49dc25d6b8\n",
       "4  air_965b2e0cf4119003  hpg_653238a84804d8e7"
      ]
     },
     "execution_count": 142,
     "metadata": {},
     "output_type": "execute_result"
    }
   ],
   "source": [
    "store_ids_df.head()"
   ]
  },
  {
   "cell_type": "code",
   "execution_count": 143,
   "id": "7118e0d6",
   "metadata": {},
   "outputs": [
    {
     "data": {
      "text/html": [
       "<div>\n",
       "<style scoped>\n",
       "    .dataframe tbody tr th:only-of-type {\n",
       "        vertical-align: middle;\n",
       "    }\n",
       "\n",
       "    .dataframe tbody tr th {\n",
       "        vertical-align: top;\n",
       "    }\n",
       "\n",
       "    .dataframe thead th {\n",
       "        text-align: right;\n",
       "    }\n",
       "</style>\n",
       "<table border=\"1\" class=\"dataframe\">\n",
       "  <thead>\n",
       "    <tr style=\"text-align: right;\">\n",
       "      <th></th>\n",
       "      <th>air_store_id</th>\n",
       "      <th>hpg_store_id</th>\n",
       "    </tr>\n",
       "  </thead>\n",
       "  <tbody>\n",
       "    <tr>\n",
       "      <th>count</th>\n",
       "      <td>150</td>\n",
       "      <td>150</td>\n",
       "    </tr>\n",
       "    <tr>\n",
       "      <th>unique</th>\n",
       "      <td>150</td>\n",
       "      <td>150</td>\n",
       "    </tr>\n",
       "    <tr>\n",
       "      <th>top</th>\n",
       "      <td>air_63b13c56b7201bd9</td>\n",
       "      <td>hpg_4bc649e72e2a239a</td>\n",
       "    </tr>\n",
       "    <tr>\n",
       "      <th>freq</th>\n",
       "      <td>1</td>\n",
       "      <td>1</td>\n",
       "    </tr>\n",
       "  </tbody>\n",
       "</table>\n",
       "</div>"
      ],
      "text/plain": [
       "                air_store_id          hpg_store_id\n",
       "count                    150                   150\n",
       "unique                   150                   150\n",
       "top     air_63b13c56b7201bd9  hpg_4bc649e72e2a239a\n",
       "freq                       1                     1"
      ]
     },
     "execution_count": 143,
     "metadata": {},
     "output_type": "execute_result"
    }
   ],
   "source": [
    "store_ids_df.describe()"
   ]
  },
  {
   "cell_type": "markdown",
   "id": "5801488d",
   "metadata": {},
   "source": [
    "#### <a id='toc1_2_1_8_'></a>[Test Data](#toc0_)"
   ]
  },
  {
   "cell_type": "code",
   "execution_count": 144,
   "id": "729b756b",
   "metadata": {},
   "outputs": [
    {
     "data": {
      "text/html": [
       "<div>\n",
       "<style scoped>\n",
       "    .dataframe tbody tr th:only-of-type {\n",
       "        vertical-align: middle;\n",
       "    }\n",
       "\n",
       "    .dataframe tbody tr th {\n",
       "        vertical-align: top;\n",
       "    }\n",
       "\n",
       "    .dataframe thead th {\n",
       "        text-align: right;\n",
       "    }\n",
       "</style>\n",
       "<table border=\"1\" class=\"dataframe\">\n",
       "  <thead>\n",
       "    <tr style=\"text-align: right;\">\n",
       "      <th></th>\n",
       "      <th>id</th>\n",
       "      <th>visitors</th>\n",
       "    </tr>\n",
       "  </thead>\n",
       "  <tbody>\n",
       "    <tr>\n",
       "      <th>0</th>\n",
       "      <td>air_00a91d42b08b08d9_2017-04-23</td>\n",
       "      <td>0</td>\n",
       "    </tr>\n",
       "    <tr>\n",
       "      <th>1</th>\n",
       "      <td>air_00a91d42b08b08d9_2017-04-24</td>\n",
       "      <td>0</td>\n",
       "    </tr>\n",
       "    <tr>\n",
       "      <th>2</th>\n",
       "      <td>air_00a91d42b08b08d9_2017-04-25</td>\n",
       "      <td>0</td>\n",
       "    </tr>\n",
       "    <tr>\n",
       "      <th>3</th>\n",
       "      <td>air_00a91d42b08b08d9_2017-04-26</td>\n",
       "      <td>0</td>\n",
       "    </tr>\n",
       "    <tr>\n",
       "      <th>4</th>\n",
       "      <td>air_00a91d42b08b08d9_2017-04-27</td>\n",
       "      <td>0</td>\n",
       "    </tr>\n",
       "  </tbody>\n",
       "</table>\n",
       "</div>"
      ],
      "text/plain": [
       "                                id  visitors\n",
       "0  air_00a91d42b08b08d9_2017-04-23         0\n",
       "1  air_00a91d42b08b08d9_2017-04-24         0\n",
       "2  air_00a91d42b08b08d9_2017-04-25         0\n",
       "3  air_00a91d42b08b08d9_2017-04-26         0\n",
       "4  air_00a91d42b08b08d9_2017-04-27         0"
      ]
     },
     "execution_count": 144,
     "metadata": {},
     "output_type": "execute_result"
    }
   ],
   "source": [
    "test_df.head()"
   ]
  },
  {
   "cell_type": "code",
   "execution_count": 145,
   "id": "19727747",
   "metadata": {},
   "outputs": [
    {
     "data": {
      "text/html": [
       "<div>\n",
       "<style scoped>\n",
       "    .dataframe tbody tr th:only-of-type {\n",
       "        vertical-align: middle;\n",
       "    }\n",
       "\n",
       "    .dataframe tbody tr th {\n",
       "        vertical-align: top;\n",
       "    }\n",
       "\n",
       "    .dataframe thead th {\n",
       "        text-align: right;\n",
       "    }\n",
       "</style>\n",
       "<table border=\"1\" class=\"dataframe\">\n",
       "  <thead>\n",
       "    <tr style=\"text-align: right;\">\n",
       "      <th></th>\n",
       "      <th>visitors</th>\n",
       "    </tr>\n",
       "  </thead>\n",
       "  <tbody>\n",
       "    <tr>\n",
       "      <th>count</th>\n",
       "      <td>32019.0</td>\n",
       "    </tr>\n",
       "    <tr>\n",
       "      <th>mean</th>\n",
       "      <td>0.0</td>\n",
       "    </tr>\n",
       "    <tr>\n",
       "      <th>std</th>\n",
       "      <td>0.0</td>\n",
       "    </tr>\n",
       "    <tr>\n",
       "      <th>min</th>\n",
       "      <td>0.0</td>\n",
       "    </tr>\n",
       "    <tr>\n",
       "      <th>25%</th>\n",
       "      <td>0.0</td>\n",
       "    </tr>\n",
       "    <tr>\n",
       "      <th>50%</th>\n",
       "      <td>0.0</td>\n",
       "    </tr>\n",
       "    <tr>\n",
       "      <th>75%</th>\n",
       "      <td>0.0</td>\n",
       "    </tr>\n",
       "    <tr>\n",
       "      <th>max</th>\n",
       "      <td>0.0</td>\n",
       "    </tr>\n",
       "  </tbody>\n",
       "</table>\n",
       "</div>"
      ],
      "text/plain": [
       "       visitors\n",
       "count   32019.0\n",
       "mean        0.0\n",
       "std         0.0\n",
       "min         0.0\n",
       "25%         0.0\n",
       "50%         0.0\n",
       "75%         0.0\n",
       "max         0.0"
      ]
     },
     "execution_count": 145,
     "metadata": {},
     "output_type": "execute_result"
    }
   ],
   "source": [
    "test_df.describe()"
   ]
  },
  {
   "cell_type": "markdown",
   "id": "7882aa4c",
   "metadata": {},
   "source": [
    "### <a id='toc1_2_2_'></a>[Reformat Features](#toc0_)"
   ]
  },
  {
   "cell_type": "code",
   "execution_count": 146,
   "id": "19aa2e9b",
   "metadata": {},
   "outputs": [],
   "source": [
    "air_visits_df['visit_date'] = pd.to_datetime(air_visits_df['visit_date'], format=\"%Y/%m/%d\")\n",
    "air_reserve_df['visit_datetime'] = pd.to_datetime(air_reserve_df['visit_datetime'], format=\"%Y/%m/%d %H:%M:%S\")\n",
    "air_reserve_df['reserve_datetime'] = pd.to_datetime(air_reserve_df['reserve_datetime'], format=\"%Y/%m/%d %H:%M:%S\")\n",
    "hpg_reserve_df['visit_datetime'] = pd.to_datetime(hpg_reserve_df['visit_datetime'], format=\"%Y/%m/%d %H:%M:%S\")\n",
    "hpg_reserve_df['reserve_datetime'] = pd.to_datetime(hpg_reserve_df['reserve_datetime'], format=\"%Y/%m/%d %H:%M:%S\")\n",
    "air_store_df['air_genre_name'] = pd.Categorical(air_store_df['air_genre_name'])\n",
    "hpg_store_df['hpg_genre_name'] = pd.Categorical(hpg_store_df['hpg_genre_name'])\n",
    "holidays_df['calendar_date'] = pd.to_datetime(holidays_df['calendar_date'], format=\"%Y/%m/%d\")\n",
    "holidays_df['holiday_flg'] = holidays_df['holiday_flg'].astype('bool')\n",
    "holidays_df['day_of_week'] = holidays_df['day_of_week'].astype('str')"
   ]
  },
  {
   "cell_type": "markdown",
   "id": "3cc38349",
   "metadata": {},
   "source": [
    "### <a id='toc1_2_3_'></a>[Feature Visualizations](#toc0_)"
   ]
  },
  {
   "cell_type": "markdown",
   "id": "47d63a6d",
   "metadata": {},
   "source": [
    "#### <a id='toc1_2_3_1_'></a>[Air Visits](#toc0_)"
   ]
  },
  {
   "cell_type": "code",
   "execution_count": 147,
   "id": "583068ab",
   "metadata": {},
   "outputs": [],
   "source": [
    "#Group the data by its visit date since there are multiple instances of the column & combine the visitors column by summing.\n",
    "air_visits_date_group = air_visits_df.groupby('visit_date', as_index=False).agg({'visitors': 'sum'})\n",
    "#p1 = air_visits_df.groupby('visit_date', as_index=False)['visitors'].sum() #both are equivalent"
   ]
  },
  {
   "cell_type": "code",
   "execution_count": 148,
   "id": "f7325bb9",
   "metadata": {},
   "outputs": [
    {
     "data": {
      "text/html": [
       "<div>\n",
       "<style scoped>\n",
       "    .dataframe tbody tr th:only-of-type {\n",
       "        vertical-align: middle;\n",
       "    }\n",
       "\n",
       "    .dataframe tbody tr th {\n",
       "        vertical-align: top;\n",
       "    }\n",
       "\n",
       "    .dataframe thead th {\n",
       "        text-align: right;\n",
       "    }\n",
       "</style>\n",
       "<table border=\"1\" class=\"dataframe\">\n",
       "  <thead>\n",
       "    <tr style=\"text-align: right;\">\n",
       "      <th></th>\n",
       "      <th>visit_date</th>\n",
       "      <th>visitors</th>\n",
       "    </tr>\n",
       "  </thead>\n",
       "  <tbody>\n",
       "    <tr>\n",
       "      <th>0</th>\n",
       "      <td>2016-01-01</td>\n",
       "      <td>1033</td>\n",
       "    </tr>\n",
       "    <tr>\n",
       "      <th>1</th>\n",
       "      <td>2016-01-02</td>\n",
       "      <td>1764</td>\n",
       "    </tr>\n",
       "    <tr>\n",
       "      <th>2</th>\n",
       "      <td>2016-01-03</td>\n",
       "      <td>2368</td>\n",
       "    </tr>\n",
       "    <tr>\n",
       "      <th>3</th>\n",
       "      <td>2016-01-04</td>\n",
       "      <td>3326</td>\n",
       "    </tr>\n",
       "    <tr>\n",
       "      <th>4</th>\n",
       "      <td>2016-01-05</td>\n",
       "      <td>3927</td>\n",
       "    </tr>\n",
       "  </tbody>\n",
       "</table>\n",
       "</div>"
      ],
      "text/plain": [
       "  visit_date  visitors\n",
       "0 2016-01-01      1033\n",
       "1 2016-01-02      1764\n",
       "2 2016-01-03      2368\n",
       "3 2016-01-04      3326\n",
       "4 2016-01-05      3927"
      ]
     },
     "execution_count": 148,
     "metadata": {},
     "output_type": "execute_result"
    }
   ],
   "source": [
    "air_visits_date_group.head()"
   ]
  },
  {
   "cell_type": "code",
   "execution_count": 149,
   "id": "6ff779d4",
   "metadata": {},
   "outputs": [
    {
     "data": {
      "image/png": "[encoded data removed]",
      "text/plain": [
       "<Figure size 1080x360 with 1 Axes>"
      ]
     },
     "metadata": {
      "needs_background": "dark"
     },
     "output_type": "display_data"
    }
   ],
   "source": [
    "\n",
    "params = {\"ytick.color\" : \"w\",\n",
    "          \"xtick.color\" : \"w\",\n",
    "          \"axes.labelcolor\" : \"w\",\n",
    "          \"axes.edgecolor\" : \"w\"}\n",
    "plt.rcParams.update(params)\n",
    "plt.rcParams[\"figure.figsize\"] = (15,5)\n",
    "sns.lineplot(x='visit_date', y='visitors', data=air_visits_date_group)\n",
    "plt.xticks(rotation=50)\n",
    "title_object = plt.title(\"Num of visitors throughout the period\")\n",
    "plt.setp(title_object, color='r') \n",
    "plt.show()"
   ]
  },
  {
   "cell_type": "code",
   "execution_count": 150,
   "id": "96ed7347",
   "metadata": {},
   "outputs": [
    {
     "data": {
      "text/html": [
       "<div>\n",
       "<style scoped>\n",
       "    .dataframe tbody tr th:only-of-type {\n",
       "        vertical-align: middle;\n",
       "    }\n",
       "\n",
       "    .dataframe tbody tr th {\n",
       "        vertical-align: top;\n",
       "    }\n",
       "\n",
       "    .dataframe thead th {\n",
       "        text-align: right;\n",
       "    }\n",
       "</style>\n",
       "<table border=\"1\" class=\"dataframe\">\n",
       "  <thead>\n",
       "    <tr style=\"text-align: right;\">\n",
       "      <th></th>\n",
       "      <th>air_store_id</th>\n",
       "      <th>visit_date</th>\n",
       "      <th>visitors</th>\n",
       "    </tr>\n",
       "  </thead>\n",
       "  <tbody>\n",
       "    <tr>\n",
       "      <th>0</th>\n",
       "      <td>air_ba937bf13d40fb24</td>\n",
       "      <td>2016-01-13</td>\n",
       "      <td>25</td>\n",
       "    </tr>\n",
       "    <tr>\n",
       "      <th>1</th>\n",
       "      <td>air_ba937bf13d40fb24</td>\n",
       "      <td>2016-01-14</td>\n",
       "      <td>32</td>\n",
       "    </tr>\n",
       "    <tr>\n",
       "      <th>2</th>\n",
       "      <td>air_ba937bf13d40fb24</td>\n",
       "      <td>2016-01-15</td>\n",
       "      <td>29</td>\n",
       "    </tr>\n",
       "    <tr>\n",
       "      <th>3</th>\n",
       "      <td>air_ba937bf13d40fb24</td>\n",
       "      <td>2016-01-16</td>\n",
       "      <td>22</td>\n",
       "    </tr>\n",
       "    <tr>\n",
       "      <th>4</th>\n",
       "      <td>air_ba937bf13d40fb24</td>\n",
       "      <td>2016-01-18</td>\n",
       "      <td>6</td>\n",
       "    </tr>\n",
       "    <tr>\n",
       "      <th>...</th>\n",
       "      <td>...</td>\n",
       "      <td>...</td>\n",
       "      <td>...</td>\n",
       "    </tr>\n",
       "    <tr>\n",
       "      <th>252103</th>\n",
       "      <td>air_24e8414b9b07decb</td>\n",
       "      <td>2017-04-18</td>\n",
       "      <td>6</td>\n",
       "    </tr>\n",
       "    <tr>\n",
       "      <th>252104</th>\n",
       "      <td>air_24e8414b9b07decb</td>\n",
       "      <td>2017-04-19</td>\n",
       "      <td>6</td>\n",
       "    </tr>\n",
       "    <tr>\n",
       "      <th>252105</th>\n",
       "      <td>air_24e8414b9b07decb</td>\n",
       "      <td>2017-04-20</td>\n",
       "      <td>7</td>\n",
       "    </tr>\n",
       "    <tr>\n",
       "      <th>252106</th>\n",
       "      <td>air_24e8414b9b07decb</td>\n",
       "      <td>2017-04-21</td>\n",
       "      <td>8</td>\n",
       "    </tr>\n",
       "    <tr>\n",
       "      <th>252107</th>\n",
       "      <td>air_24e8414b9b07decb</td>\n",
       "      <td>2017-04-22</td>\n",
       "      <td>5</td>\n",
       "    </tr>\n",
       "  </tbody>\n",
       "</table>\n",
       "<p>252108 rows × 3 columns</p>\n",
       "</div>"
      ],
      "text/plain": [
       "                air_store_id visit_date  visitors\n",
       "0       air_ba937bf13d40fb24 2016-01-13        25\n",
       "1       air_ba937bf13d40fb24 2016-01-14        32\n",
       "2       air_ba937bf13d40fb24 2016-01-15        29\n",
       "3       air_ba937bf13d40fb24 2016-01-16        22\n",
       "4       air_ba937bf13d40fb24 2016-01-18         6\n",
       "...                      ...        ...       ...\n",
       "252103  air_24e8414b9b07decb 2017-04-18         6\n",
       "252104  air_24e8414b9b07decb 2017-04-19         6\n",
       "252105  air_24e8414b9b07decb 2017-04-20         7\n",
       "252106  air_24e8414b9b07decb 2017-04-21         8\n",
       "252107  air_24e8414b9b07decb 2017-04-22         5\n",
       "\n",
       "[252108 rows x 3 columns]"
      ]
     },
     "execution_count": 150,
     "metadata": {},
     "output_type": "execute_result"
    }
   ],
   "source": [
    "air_visits_df"
   ]
  },
  {
   "cell_type": "code",
   "execution_count": 151,
   "id": "0dda4510",
   "metadata": {},
   "outputs": [
    {
     "data": {
      "image/png": "[encoded data removed]",
      "text/plain": [
       "<Figure size 720x360 with 1 Axes>"
      ]
     },
     "metadata": {
      "needs_background": "dark"
     },
     "output_type": "display_data"
    }
   ],
   "source": [
    "plt.rcParams[\"figure.figsize\"] = (10,5)\n",
    "#since the visitors column has a very wide range of values, we'll visualize the distribution in a logarithmic scale.\n",
    "air_visits_df['visitors_logarithmic'] = np.log2(air_visits_df['visitors'])\n",
    "sns.histplot(x='visitors_logarithmic', data=air_visits_df, bins=30)\n",
    "title_object = plt.title(\"Visitors Distribution\")\n",
    "plt.setp(title_object, color='r')\n",
    "plt.show()"
   ]
  },
  {
   "cell_type": "code",
   "execution_count": 152,
   "id": "2d0de757",
   "metadata": {},
   "outputs": [],
   "source": [
    "air_visits_df['wday'] = air_visits_df['visit_date'].dt.weekday + 1 #find the day of the week based on the date. Starts from 1 = Monday to 7 for Sunday\n",
    "air_visits_wday_group = air_visits_df.groupby('wday', as_index=False).agg({'visitors': 'median'}) #group the df by the day of the week and get the median num of visitors on each day.\n",
    "weekday_dict = {1:'Monday', 2:'Tuesday', 3:'Wednesday', 4:'Thursday', 5:'Friday', 6:'Saturday', 7:'Sunday'}\n",
    "air_visits_wday_group['wday'] = air_visits_wday_group['wday'].replace(weekday_dict) #maps the numbers to day name.\n"
   ]
  },
  {
   "cell_type": "code",
   "execution_count": 153,
   "id": "e6feec4c",
   "metadata": {},
   "outputs": [
    {
     "data": {
      "image/png": "[encoded data removed]",
      "text/plain": [
       "<Figure size 720x360 with 1 Axes>"
      ]
     },
     "metadata": {
      "needs_background": "dark"
     },
     "output_type": "display_data"
    }
   ],
   "source": [
    "sns.barplot(data=air_visits_wday_group, x='wday', y='visitors')\n",
    "title_object = plt.title(\"Median of visitors throughout the weekdays\")\n",
    "plt.setp(title_object, color='r') \n",
    "plt.show()"
   ]
  },
  {
   "cell_type": "code",
   "execution_count": 154,
   "id": "87ff4a1f",
   "metadata": {},
   "outputs": [],
   "source": [
    "air_visits_df['month'] = air_visits_df['visit_date'].dt.month\n",
    "air_visits_month_group = air_visits_df.groupby('month', as_index=False).agg({'visitors':'median'})\n",
    "air_visits_month_group['month'] = air_visits_month_group['month'].apply(lambda x: calendar.month_abbr[x])"
   ]
  },
  {
   "cell_type": "code",
   "execution_count": 155,
   "id": "346c0729",
   "metadata": {},
   "outputs": [
    {
     "data": {
      "image/png": "[encoded data removed]",
      "text/plain": [
       "<Figure size 720x360 with 1 Axes>"
      ]
     },
     "metadata": {
      "needs_background": "dark"
     },
     "output_type": "display_data"
    }
   ],
   "source": [
    "sns.barplot(data=air_visits_month_group, x='month', y='visitors')\n",
    "title_object = plt.title(\"Median of visitors throughout the months\")\n",
    "plt.setp(title_object, color='r') \n",
    "plt.xticks(rotation=50)\n",
    "plt.show()"
   ]
  },
  {
   "attachments": {},
   "cell_type": "markdown",
   "id": "39367b23",
   "metadata": {},
   "source": [
    "From the visualizations above, we observe that \n",
    "* There might have been new restaurants added to the DB as we see a sudden increase in visitors activity around July 2016.\n",
    "* There is also a periodic pattern that probably corresponds to weekly cycle.\n",
    "* Friday and the weekends have the highest number of visitors while  Mon and Tue has the lowest. This conforms to our expectations and common sense.\n",
    "* Mar to May seems to be a consistently busy period for the restaurant while the num of visitors peak at Dec. Perhaps due to holidays, bonuses, sales, etc."
   ]
  },
  {
   "cell_type": "code",
   "execution_count": 156,
   "id": "0fc940f0",
   "metadata": {},
   "outputs": [
    {
     "data": {
      "text/html": [
       "<div>\n",
       "<style scoped>\n",
       "    .dataframe tbody tr th:only-of-type {\n",
       "        vertical-align: middle;\n",
       "    }\n",
       "\n",
       "    .dataframe tbody tr th {\n",
       "        vertical-align: top;\n",
       "    }\n",
       "\n",
       "    .dataframe thead th {\n",
       "        text-align: right;\n",
       "    }\n",
       "</style>\n",
       "<table border=\"1\" class=\"dataframe\">\n",
       "  <thead>\n",
       "    <tr style=\"text-align: right;\">\n",
       "      <th></th>\n",
       "      <th>air_store_id</th>\n",
       "      <th>visit_date</th>\n",
       "      <th>visitors</th>\n",
       "      <th>visitors_logarithmic</th>\n",
       "      <th>wday</th>\n",
       "      <th>month</th>\n",
       "    </tr>\n",
       "  </thead>\n",
       "  <tbody>\n",
       "    <tr>\n",
       "      <th>0</th>\n",
       "      <td>air_ba937bf13d40fb24</td>\n",
       "      <td>2016-01-13</td>\n",
       "      <td>25</td>\n",
       "      <td>4.643856</td>\n",
       "      <td>3</td>\n",
       "      <td>1</td>\n",
       "    </tr>\n",
       "    <tr>\n",
       "      <th>1</th>\n",
       "      <td>air_ba937bf13d40fb24</td>\n",
       "      <td>2016-01-14</td>\n",
       "      <td>32</td>\n",
       "      <td>5.000000</td>\n",
       "      <td>4</td>\n",
       "      <td>1</td>\n",
       "    </tr>\n",
       "    <tr>\n",
       "      <th>2</th>\n",
       "      <td>air_ba937bf13d40fb24</td>\n",
       "      <td>2016-01-15</td>\n",
       "      <td>29</td>\n",
       "      <td>4.857981</td>\n",
       "      <td>5</td>\n",
       "      <td>1</td>\n",
       "    </tr>\n",
       "    <tr>\n",
       "      <th>3</th>\n",
       "      <td>air_ba937bf13d40fb24</td>\n",
       "      <td>2016-01-16</td>\n",
       "      <td>22</td>\n",
       "      <td>4.459432</td>\n",
       "      <td>6</td>\n",
       "      <td>1</td>\n",
       "    </tr>\n",
       "    <tr>\n",
       "      <th>4</th>\n",
       "      <td>air_ba937bf13d40fb24</td>\n",
       "      <td>2016-01-18</td>\n",
       "      <td>6</td>\n",
       "      <td>2.584963</td>\n",
       "      <td>1</td>\n",
       "      <td>1</td>\n",
       "    </tr>\n",
       "    <tr>\n",
       "      <th>...</th>\n",
       "      <td>...</td>\n",
       "      <td>...</td>\n",
       "      <td>...</td>\n",
       "      <td>...</td>\n",
       "      <td>...</td>\n",
       "      <td>...</td>\n",
       "    </tr>\n",
       "    <tr>\n",
       "      <th>252103</th>\n",
       "      <td>air_24e8414b9b07decb</td>\n",
       "      <td>2017-04-18</td>\n",
       "      <td>6</td>\n",
       "      <td>2.584963</td>\n",
       "      <td>2</td>\n",
       "      <td>4</td>\n",
       "    </tr>\n",
       "    <tr>\n",
       "      <th>252104</th>\n",
       "      <td>air_24e8414b9b07decb</td>\n",
       "      <td>2017-04-19</td>\n",
       "      <td>6</td>\n",
       "      <td>2.584963</td>\n",
       "      <td>3</td>\n",
       "      <td>4</td>\n",
       "    </tr>\n",
       "    <tr>\n",
       "      <th>252105</th>\n",
       "      <td>air_24e8414b9b07decb</td>\n",
       "      <td>2017-04-20</td>\n",
       "      <td>7</td>\n",
       "      <td>2.807355</td>\n",
       "      <td>4</td>\n",
       "      <td>4</td>\n",
       "    </tr>\n",
       "    <tr>\n",
       "      <th>252106</th>\n",
       "      <td>air_24e8414b9b07decb</td>\n",
       "      <td>2017-04-21</td>\n",
       "      <td>8</td>\n",
       "      <td>3.000000</td>\n",
       "      <td>5</td>\n",
       "      <td>4</td>\n",
       "    </tr>\n",
       "    <tr>\n",
       "      <th>252107</th>\n",
       "      <td>air_24e8414b9b07decb</td>\n",
       "      <td>2017-04-22</td>\n",
       "      <td>5</td>\n",
       "      <td>2.321928</td>\n",
       "      <td>6</td>\n",
       "      <td>4</td>\n",
       "    </tr>\n",
       "  </tbody>\n",
       "</table>\n",
       "<p>252108 rows × 6 columns</p>\n",
       "</div>"
      ],
      "text/plain": [
       "                air_store_id visit_date  visitors  visitors_logarithmic  wday  \\\n",
       "0       air_ba937bf13d40fb24 2016-01-13        25              4.643856     3   \n",
       "1       air_ba937bf13d40fb24 2016-01-14        32              5.000000     4   \n",
       "2       air_ba937bf13d40fb24 2016-01-15        29              4.857981     5   \n",
       "3       air_ba937bf13d40fb24 2016-01-16        22              4.459432     6   \n",
       "4       air_ba937bf13d40fb24 2016-01-18         6              2.584963     1   \n",
       "...                      ...        ...       ...                   ...   ...   \n",
       "252103  air_24e8414b9b07decb 2017-04-18         6              2.584963     2   \n",
       "252104  air_24e8414b9b07decb 2017-04-19         6              2.584963     3   \n",
       "252105  air_24e8414b9b07decb 2017-04-20         7              2.807355     4   \n",
       "252106  air_24e8414b9b07decb 2017-04-21         8              3.000000     5   \n",
       "252107  air_24e8414b9b07decb 2017-04-22         5              2.321928     6   \n",
       "\n",
       "        month  \n",
       "0           1  \n",
       "1           1  \n",
       "2           1  \n",
       "3           1  \n",
       "4           1  \n",
       "...       ...  \n",
       "252103      4  \n",
       "252104      4  \n",
       "252105      4  \n",
       "252106      4  \n",
       "252107      4  \n",
       "\n",
       "[252108 rows x 6 columns]"
      ]
     },
     "execution_count": 156,
     "metadata": {},
     "output_type": "execute_result"
    }
   ],
   "source": [
    "air_visits_df"
   ]
  },
  {
   "cell_type": "code",
   "execution_count": 157,
   "id": "ba5e3c35",
   "metadata": {},
   "outputs": [],
   "source": [
    "air_visits_filtered = air_visits_df.loc[(air_visits_df['visit_date'] > \"2016-04-15\") & (air_visits_df['visit_date'] < \"2016-06-15\")]\n",
    "air_visits_filtered_grouped = air_visits_filtered.groupby('visit_date', as_index=False).agg({'visitors':'sum'})"
   ]
  },
  {
   "cell_type": "code",
   "execution_count": 158,
   "id": "66743815",
   "metadata": {},
   "outputs": [
    {
     "data": {
      "image/png": "[encoded data removed]",
      "text/plain": [
       "<Figure size 720x360 with 1 Axes>"
      ]
     },
     "metadata": {
      "needs_background": "dark"
     },
     "output_type": "display_data"
    }
   ],
   "source": [
    "sns.lineplot(x='visit_date', y='visitors', data=air_visits_filtered_grouped)\n",
    "plt.xticks(rotation=50)\n",
    "plt.xlabel('Visualizing Golden Week (Apr 29 to May 5)')\n",
    "plt.show()"
   ]
  },
  {
   "attachments": {},
   "cell_type": "markdown",
   "id": "d56aee7a",
   "metadata": {},
   "source": [
    "Notice that the same pattern occurs everywhere except during the Golden Week where there was no significant dip in the num of visitors."
   ]
  },
  {
   "cell_type": "markdown",
   "id": "6122d2d2",
   "metadata": {},
   "source": [
    "#### <a id='toc1_2_3_2_'></a>[Air Reservations](#toc0_)"
   ]
  },
  {
   "cell_type": "code",
   "execution_count": 159,
   "id": "4deac2bf",
   "metadata": {},
   "outputs": [
    {
     "data": {
      "text/html": [
       "<div>\n",
       "<style scoped>\n",
       "    .dataframe tbody tr th:only-of-type {\n",
       "        vertical-align: middle;\n",
       "    }\n",
       "\n",
       "    .dataframe tbody tr th {\n",
       "        vertical-align: top;\n",
       "    }\n",
       "\n",
       "    .dataframe thead th {\n",
       "        text-align: right;\n",
       "    }\n",
       "</style>\n",
       "<table border=\"1\" class=\"dataframe\">\n",
       "  <thead>\n",
       "    <tr style=\"text-align: right;\">\n",
       "      <th></th>\n",
       "      <th>air_store_id</th>\n",
       "      <th>visit_datetime</th>\n",
       "      <th>reserve_datetime</th>\n",
       "      <th>reserve_visitors</th>\n",
       "    </tr>\n",
       "  </thead>\n",
       "  <tbody>\n",
       "    <tr>\n",
       "      <th>0</th>\n",
       "      <td>air_877f79706adbfb06</td>\n",
       "      <td>2016-01-01 19:00:00</td>\n",
       "      <td>2016-01-01 16:00:00</td>\n",
       "      <td>1</td>\n",
       "    </tr>\n",
       "    <tr>\n",
       "      <th>1</th>\n",
       "      <td>air_db4b38ebe7a7ceff</td>\n",
       "      <td>2016-01-01 19:00:00</td>\n",
       "      <td>2016-01-01 19:00:00</td>\n",
       "      <td>3</td>\n",
       "    </tr>\n",
       "    <tr>\n",
       "      <th>2</th>\n",
       "      <td>air_db4b38ebe7a7ceff</td>\n",
       "      <td>2016-01-01 19:00:00</td>\n",
       "      <td>2016-01-01 19:00:00</td>\n",
       "      <td>6</td>\n",
       "    </tr>\n",
       "    <tr>\n",
       "      <th>3</th>\n",
       "      <td>air_877f79706adbfb06</td>\n",
       "      <td>2016-01-01 20:00:00</td>\n",
       "      <td>2016-01-01 16:00:00</td>\n",
       "      <td>2</td>\n",
       "    </tr>\n",
       "    <tr>\n",
       "      <th>4</th>\n",
       "      <td>air_db80363d35f10926</td>\n",
       "      <td>2016-01-01 20:00:00</td>\n",
       "      <td>2016-01-01 01:00:00</td>\n",
       "      <td>5</td>\n",
       "    </tr>\n",
       "    <tr>\n",
       "      <th>...</th>\n",
       "      <td>...</td>\n",
       "      <td>...</td>\n",
       "      <td>...</td>\n",
       "      <td>...</td>\n",
       "    </tr>\n",
       "    <tr>\n",
       "      <th>92373</th>\n",
       "      <td>air_db4b38ebe7a7ceff</td>\n",
       "      <td>2017-05-29 18:00:00</td>\n",
       "      <td>2017-04-17 19:00:00</td>\n",
       "      <td>6</td>\n",
       "    </tr>\n",
       "    <tr>\n",
       "      <th>92374</th>\n",
       "      <td>air_1033310359ceeac1</td>\n",
       "      <td>2017-05-30 23:00:00</td>\n",
       "      <td>2017-04-19 17:00:00</td>\n",
       "      <td>8</td>\n",
       "    </tr>\n",
       "    <tr>\n",
       "      <th>92375</th>\n",
       "      <td>air_877f79706adbfb06</td>\n",
       "      <td>2017-05-31 20:00:00</td>\n",
       "      <td>2017-04-12 23:00:00</td>\n",
       "      <td>3</td>\n",
       "    </tr>\n",
       "    <tr>\n",
       "      <th>92376</th>\n",
       "      <td>air_900d755ebd2f7bbd</td>\n",
       "      <td>2017-05-31 20:00:00</td>\n",
       "      <td>2017-04-19 16:00:00</td>\n",
       "      <td>10</td>\n",
       "    </tr>\n",
       "    <tr>\n",
       "      <th>92377</th>\n",
       "      <td>air_3cad29d1a23209d2</td>\n",
       "      <td>2017-05-31 21:00:00</td>\n",
       "      <td>2017-04-22 10:00:00</td>\n",
       "      <td>3</td>\n",
       "    </tr>\n",
       "  </tbody>\n",
       "</table>\n",
       "<p>92378 rows × 4 columns</p>\n",
       "</div>"
      ],
      "text/plain": [
       "               air_store_id      visit_datetime    reserve_datetime  \\\n",
       "0      air_877f79706adbfb06 2016-01-01 19:00:00 2016-01-01 16:00:00   \n",
       "1      air_db4b38ebe7a7ceff 2016-01-01 19:00:00 2016-01-01 19:00:00   \n",
       "2      air_db4b38ebe7a7ceff 2016-01-01 19:00:00 2016-01-01 19:00:00   \n",
       "3      air_877f79706adbfb06 2016-01-01 20:00:00 2016-01-01 16:00:00   \n",
       "4      air_db80363d35f10926 2016-01-01 20:00:00 2016-01-01 01:00:00   \n",
       "...                     ...                 ...                 ...   \n",
       "92373  air_db4b38ebe7a7ceff 2017-05-29 18:00:00 2017-04-17 19:00:00   \n",
       "92374  air_1033310359ceeac1 2017-05-30 23:00:00 2017-04-19 17:00:00   \n",
       "92375  air_877f79706adbfb06 2017-05-31 20:00:00 2017-04-12 23:00:00   \n",
       "92376  air_900d755ebd2f7bbd 2017-05-31 20:00:00 2017-04-19 16:00:00   \n",
       "92377  air_3cad29d1a23209d2 2017-05-31 21:00:00 2017-04-22 10:00:00   \n",
       "\n",
       "       reserve_visitors  \n",
       "0                     1  \n",
       "1                     3  \n",
       "2                     6  \n",
       "3                     2  \n",
       "4                     5  \n",
       "...                 ...  \n",
       "92373                 6  \n",
       "92374                 8  \n",
       "92375                 3  \n",
       "92376                10  \n",
       "92377                 3  \n",
       "\n",
       "[92378 rows x 4 columns]"
      ]
     },
     "execution_count": 159,
     "metadata": {},
     "output_type": "execute_result"
    }
   ],
   "source": [
    "air_reserve_df"
   ]
  },
  {
   "cell_type": "code",
   "execution_count": 160,
   "id": "470e045f",
   "metadata": {},
   "outputs": [],
   "source": [
    "air_reserve_df['visit_date'] = air_reserve_df['visit_datetime'].dt.date\n",
    "air_reserve_visit_date_grouped = air_reserve_df.groupby('visit_date', as_index=False).agg({'reserve_visitors':'sum'})"
   ]
  },
  {
   "cell_type": "code",
   "execution_count": 161,
   "id": "ba1ae2fd",
   "metadata": {},
   "outputs": [
    {
     "data": {
      "image/png": "[encoded data removed]",
      "text/plain": [
       "<Figure size 1080x288 with 1 Axes>"
      ]
     },
     "metadata": {
      "needs_background": "dark"
     },
     "output_type": "display_data"
    }
   ],
   "source": [
    "plt.rcParams[\"figure.figsize\"] = (15,4)\n",
    "sns.lineplot(data=air_reserve_visit_date_grouped, x='visit_date', y='reserve_visitors')\n",
    "plt.xticks(rotation=50)\n",
    "plt.xlabel(\"Num of reservations made\")\n",
    "plt.show()"
   ]
  },
  {
   "cell_type": "code",
   "execution_count": 162,
   "id": "d3adb3eb",
   "metadata": {},
   "outputs": [],
   "source": [
    "air_reserve_df['visit_hour'] = air_reserve_df['visit_datetime'].dt.hour\n",
    "air_reserve_visit_hour_grouped = air_reserve_df.groupby('visit_hour', as_index=False).agg({'reserve_visitors':'sum'})"
   ]
  },
  {
   "cell_type": "code",
   "execution_count": 186,
   "id": "6e0f9df4",
   "metadata": {},
   "outputs": [
    {
     "data": {
      "image/png": "[encoded data removed]",
      "text/plain": [
       "<Figure size 1080x432 with 1 Axes>"
      ]
     },
     "metadata": {
      "needs_background": "dark"
     },
     "output_type": "display_data"
    }
   ],
   "source": [
    "plt.rcParams[\"figure.figsize\"] = (15,6)\n",
    "sns.barplot(data=air_reserve_visit_hour_grouped, x='visit_hour', y='reserve_visitors')\n",
    "plt.xlabel(\"Visiting hours\")\n",
    "plt.show()"
   ]
  },
  {
   "cell_type": "code",
   "execution_count": 168,
   "id": "b0c668c1",
   "metadata": {},
   "outputs": [],
   "source": [
    "air_reserve_df['diff_hour'] = (air_reserve_df['visit_datetime'] - air_reserve_df['reserve_datetime']).dt.total_seconds()/3600.0 #get the total hours of difference. \n",
    "air_reserve_df['diff_day'] = (air_reserve_df['visit_datetime'] - air_reserve_df['reserve_datetime']).dt.days"
   ]
  },
  {
   "cell_type": "code",
   "execution_count": 176,
   "id": "4e17df64",
   "metadata": {},
   "outputs": [
    {
     "data": {
      "text/html": [
       "<div>\n",
       "<style scoped>\n",
       "    .dataframe tbody tr th:only-of-type {\n",
       "        vertical-align: middle;\n",
       "    }\n",
       "\n",
       "    .dataframe tbody tr th {\n",
       "        vertical-align: top;\n",
       "    }\n",
       "\n",
       "    .dataframe thead th {\n",
       "        text-align: right;\n",
       "    }\n",
       "</style>\n",
       "<table border=\"1\" class=\"dataframe\">\n",
       "  <thead>\n",
       "    <tr style=\"text-align: right;\">\n",
       "      <th></th>\n",
       "      <th>air_store_id</th>\n",
       "      <th>visit_datetime</th>\n",
       "      <th>reserve_datetime</th>\n",
       "      <th>reserve_visitors</th>\n",
       "      <th>visit_date</th>\n",
       "      <th>visit_hour</th>\n",
       "      <th>diff_hour</th>\n",
       "      <th>diff_day</th>\n",
       "    </tr>\n",
       "  </thead>\n",
       "  <tbody>\n",
       "    <tr>\n",
       "      <th>0</th>\n",
       "      <td>air_877f79706adbfb06</td>\n",
       "      <td>2016-01-01 19:00:00</td>\n",
       "      <td>2016-01-01 16:00:00</td>\n",
       "      <td>1</td>\n",
       "      <td>2016-01-01</td>\n",
       "      <td>19</td>\n",
       "      <td>3.0</td>\n",
       "      <td>0</td>\n",
       "    </tr>\n",
       "    <tr>\n",
       "      <th>1</th>\n",
       "      <td>air_db4b38ebe7a7ceff</td>\n",
       "      <td>2016-01-01 19:00:00</td>\n",
       "      <td>2016-01-01 19:00:00</td>\n",
       "      <td>3</td>\n",
       "      <td>2016-01-01</td>\n",
       "      <td>19</td>\n",
       "      <td>0.0</td>\n",
       "      <td>0</td>\n",
       "    </tr>\n",
       "    <tr>\n",
       "      <th>2</th>\n",
       "      <td>air_db4b38ebe7a7ceff</td>\n",
       "      <td>2016-01-01 19:00:00</td>\n",
       "      <td>2016-01-01 19:00:00</td>\n",
       "      <td>6</td>\n",
       "      <td>2016-01-01</td>\n",
       "      <td>19</td>\n",
       "      <td>0.0</td>\n",
       "      <td>0</td>\n",
       "    </tr>\n",
       "    <tr>\n",
       "      <th>3</th>\n",
       "      <td>air_877f79706adbfb06</td>\n",
       "      <td>2016-01-01 20:00:00</td>\n",
       "      <td>2016-01-01 16:00:00</td>\n",
       "      <td>2</td>\n",
       "      <td>2016-01-01</td>\n",
       "      <td>20</td>\n",
       "      <td>4.0</td>\n",
       "      <td>0</td>\n",
       "    </tr>\n",
       "    <tr>\n",
       "      <th>4</th>\n",
       "      <td>air_db80363d35f10926</td>\n",
       "      <td>2016-01-01 20:00:00</td>\n",
       "      <td>2016-01-01 01:00:00</td>\n",
       "      <td>5</td>\n",
       "      <td>2016-01-01</td>\n",
       "      <td>20</td>\n",
       "      <td>19.0</td>\n",
       "      <td>0</td>\n",
       "    </tr>\n",
       "    <tr>\n",
       "      <th>...</th>\n",
       "      <td>...</td>\n",
       "      <td>...</td>\n",
       "      <td>...</td>\n",
       "      <td>...</td>\n",
       "      <td>...</td>\n",
       "      <td>...</td>\n",
       "      <td>...</td>\n",
       "      <td>...</td>\n",
       "    </tr>\n",
       "    <tr>\n",
       "      <th>92373</th>\n",
       "      <td>air_db4b38ebe7a7ceff</td>\n",
       "      <td>2017-05-29 18:00:00</td>\n",
       "      <td>2017-04-17 19:00:00</td>\n",
       "      <td>6</td>\n",
       "      <td>2017-05-29</td>\n",
       "      <td>18</td>\n",
       "      <td>1007.0</td>\n",
       "      <td>41</td>\n",
       "    </tr>\n",
       "    <tr>\n",
       "      <th>92374</th>\n",
       "      <td>air_1033310359ceeac1</td>\n",
       "      <td>2017-05-30 23:00:00</td>\n",
       "      <td>2017-04-19 17:00:00</td>\n",
       "      <td>8</td>\n",
       "      <td>2017-05-30</td>\n",
       "      <td>23</td>\n",
       "      <td>990.0</td>\n",
       "      <td>41</td>\n",
       "    </tr>\n",
       "    <tr>\n",
       "      <th>92375</th>\n",
       "      <td>air_877f79706adbfb06</td>\n",
       "      <td>2017-05-31 20:00:00</td>\n",
       "      <td>2017-04-12 23:00:00</td>\n",
       "      <td>3</td>\n",
       "      <td>2017-05-31</td>\n",
       "      <td>20</td>\n",
       "      <td>1173.0</td>\n",
       "      <td>48</td>\n",
       "    </tr>\n",
       "    <tr>\n",
       "      <th>92376</th>\n",
       "      <td>air_900d755ebd2f7bbd</td>\n",
       "      <td>2017-05-31 20:00:00</td>\n",
       "      <td>2017-04-19 16:00:00</td>\n",
       "      <td>10</td>\n",
       "      <td>2017-05-31</td>\n",
       "      <td>20</td>\n",
       "      <td>1012.0</td>\n",
       "      <td>42</td>\n",
       "    </tr>\n",
       "    <tr>\n",
       "      <th>92377</th>\n",
       "      <td>air_3cad29d1a23209d2</td>\n",
       "      <td>2017-05-31 21:00:00</td>\n",
       "      <td>2017-04-22 10:00:00</td>\n",
       "      <td>3</td>\n",
       "      <td>2017-05-31</td>\n",
       "      <td>21</td>\n",
       "      <td>947.0</td>\n",
       "      <td>39</td>\n",
       "    </tr>\n",
       "  </tbody>\n",
       "</table>\n",
       "<p>92378 rows × 8 columns</p>\n",
       "</div>"
      ],
      "text/plain": [
       "               air_store_id      visit_datetime    reserve_datetime  \\\n",
       "0      air_877f79706adbfb06 2016-01-01 19:00:00 2016-01-01 16:00:00   \n",
       "1      air_db4b38ebe7a7ceff 2016-01-01 19:00:00 2016-01-01 19:00:00   \n",
       "2      air_db4b38ebe7a7ceff 2016-01-01 19:00:00 2016-01-01 19:00:00   \n",
       "3      air_877f79706adbfb06 2016-01-01 20:00:00 2016-01-01 16:00:00   \n",
       "4      air_db80363d35f10926 2016-01-01 20:00:00 2016-01-01 01:00:00   \n",
       "...                     ...                 ...                 ...   \n",
       "92373  air_db4b38ebe7a7ceff 2017-05-29 18:00:00 2017-04-17 19:00:00   \n",
       "92374  air_1033310359ceeac1 2017-05-30 23:00:00 2017-04-19 17:00:00   \n",
       "92375  air_877f79706adbfb06 2017-05-31 20:00:00 2017-04-12 23:00:00   \n",
       "92376  air_900d755ebd2f7bbd 2017-05-31 20:00:00 2017-04-19 16:00:00   \n",
       "92377  air_3cad29d1a23209d2 2017-05-31 21:00:00 2017-04-22 10:00:00   \n",
       "\n",
       "       reserve_visitors  visit_date  visit_hour  diff_hour  diff_day  \n",
       "0                     1  2016-01-01          19        3.0         0  \n",
       "1                     3  2016-01-01          19        0.0         0  \n",
       "2                     6  2016-01-01          19        0.0         0  \n",
       "3                     2  2016-01-01          20        4.0         0  \n",
       "4                     5  2016-01-01          20       19.0         0  \n",
       "...                 ...         ...         ...        ...       ...  \n",
       "92373                 6  2017-05-29          18     1007.0        41  \n",
       "92374                 8  2017-05-30          23      990.0        41  \n",
       "92375                 3  2017-05-31          20     1173.0        48  \n",
       "92376                10  2017-05-31          20     1012.0        42  \n",
       "92377                 3  2017-05-31          21      947.0        39  \n",
       "\n",
       "[92378 rows x 8 columns]"
      ]
     },
     "execution_count": 176,
     "metadata": {},
     "output_type": "execute_result"
    }
   ],
   "source": [
    "air_reserve_df['diff_hour'] = round(air_reserve_df['diff_hour'], 2)\n",
    "air_reserve_df"
   ]
  },
  {
   "cell_type": "code",
   "execution_count": 177,
   "id": "55f9ed96",
   "metadata": {},
   "outputs": [
    {
     "data": {
      "text/plain": [
       "0          0.0\n",
       "1          1.0\n",
       "2          2.0\n",
       "3          3.0\n",
       "4          4.0\n",
       "         ...  \n",
       "2424    9168.0\n",
       "2425    9188.0\n",
       "2426    9266.0\n",
       "2427    9408.0\n",
       "2428    9435.0\n",
       "Name: diff_hour, Length: 2429, dtype: float64"
      ]
     },
     "execution_count": 177,
     "metadata": {},
     "output_type": "execute_result"
    }
   ],
   "source": [
    "air_reserve_hour_diff_grouped = air_reserve_df.groupby('diff_hour', as_index=False).agg({'reserve_visitors':'sum'})\n",
    "air_reserve_hour_diff_grouped['diff_hour']"
   ]
  },
  {
   "cell_type": "code",
   "execution_count": 189,
   "id": "867a834b",
   "metadata": {},
   "outputs": [
    {
     "data": {
      "image/png": "[encoded data removed]",
      "text/plain": [
       "<Figure size 1080x432 with 1 Axes>"
      ]
     },
     "metadata": {
      "needs_background": "dark"
     },
     "output_type": "display_data"
    }
   ],
   "source": [
    "plt.rcParams[\"figure.figsize\"] = (15,6)\n",
    "sns.barplot(data=air_reserve_hour_diff_grouped[(air_reserve_hour_diff_grouped['diff_hour'] < 150.0)], x='diff_hour', y='reserve_visitors')\n",
    "plt.xlabel(\"Hours from reservation to visit.\")\n",
    "plt.xticks(np.arange(0, 155, 10))\n",
    "plt.show()"
   ]
  },
  {
   "cell_type": "code",
   "execution_count": 192,
   "id": "8305f687",
   "metadata": {},
   "outputs": [
    {
     "name": "stdout",
     "output_type": "stream",
     "text": [
      "The maximum time between the reservation made and the visit made : 9435.0 or 393.0 days and 3.0 hours.\n"
     ]
    }
   ],
   "source": [
    "max_day, max_hour = air_reserve_hour_diff_grouped['diff_hour'].max()//24, air_reserve_hour_diff_grouped['diff_hour'].max() % 24\n",
    "print(f\"The maximum time between the reservation made and the visit made : {air_reserve_hour_diff_grouped['diff_hour'].max()} or {max_day} days and {max_hour} hours.\")"
   ]
  },
  {
   "attachments": {},
   "cell_type": "markdown",
   "id": "b51b9a10",
   "metadata": {},
   "source": [
    "From the visualizations, we can see that:\n",
    "\n",
    "* We can see that the usage of reservation system kicked off around the beginning of year 2017. The decline at the end seems artificial and probably was made so for the training timeframe.\n",
    "* Num of reservations made peaks around the evening time. \n",
    "* Many of the reservations are made few hours before their visit. However, if the reservations were made much prior, people tend to book exactly around the evenings. There are also reservations made more than a year prior."
   ]
  },
  {
   "cell_type": "code",
   "execution_count": null,
   "id": "c2c7ced8",
   "metadata": {},
   "outputs": [],
   "source": []
  }
 ],
 "metadata": {
  "kernelspec": {
   "display_name": "nasa",
   "language": "python",
   "name": "python3"
  },
  "language_info": {
   "codemirror_mode": {
    "name": "ipython",
    "version": 3
   },
   "file_extension": ".py",
   "mimetype": "text/x-python",
   "name": "python",
   "nbconvert_exporter": "python",
   "pygments_lexer": "ipython3",
   "version": "3.8.12"
  },
  "toc": {
   "base_numbering": 1,
   "nav_menu": {},
   "number_sections": true,
   "sideBar": true,
   "skip_h1_title": true,
   "title_cell": "Table of Contents",
   "title_sidebar": "Contents",
   "toc_cell": false,
   "toc_position": {
    "height": "calc(100% - 180px)",
    "left": "10px",
    "top": "150px",
    "width": "233px"
   },
   "toc_section_display": true,
   "toc_window_display": true
  },
  "vscode": {
   "interpreter": {
    "hash": "f01246b9f7702e26d390f744892b28872a97987408ef6b7ea19c736c1ea6e419"
   }
  }
 },
 "nbformat": 4,
 "nbformat_minor": 5
}
